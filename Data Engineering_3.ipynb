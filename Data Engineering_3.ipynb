{
 "cells": [
  {
   "cell_type": "code",
   "execution_count": 61,
   "metadata": {
    "id": "NkfgDs7LB-_v"
   },
   "outputs": [],
   "source": [
    "import pandas as pd\n",
    "import numpy as np\n",
    "import matplotlib.pyplot as plt\n",
    "import seaborn as sns\n",
    "import datetime as dt\n",
    "\n",
    "from collections import Counter\n",
    "from sklearn.cluster import KMeans\n",
    "from sklearn.preprocessing import StandardScaler"
   ]
  },
  {
   "cell_type": "markdown",
   "metadata": {
    "id": "kiMhthaGJIZu"
   },
   "source": [
    "## Data exploration"
   ]
  },
  {
   "cell_type": "code",
   "execution_count": 62,
   "metadata": {
    "colab": {
     "base_uri": "https://localhost:8080/",
     "height": 206
    },
    "id": "TRMrBECuflcr",
    "outputId": "e5704a24-e3a7-4b17-d4b6-f1818c0aae41"
   },
   "outputs": [
    {
     "data": {
      "text/html": [
       "<div>\n",
       "<style scoped>\n",
       "    .dataframe tbody tr th:only-of-type {\n",
       "        vertical-align: middle;\n",
       "    }\n",
       "\n",
       "    .dataframe tbody tr th {\n",
       "        vertical-align: top;\n",
       "    }\n",
       "\n",
       "    .dataframe thead th {\n",
       "        text-align: right;\n",
       "    }\n",
       "</style>\n",
       "<table border=\"1\" class=\"dataframe\">\n",
       "  <thead>\n",
       "    <tr style=\"text-align: right;\">\n",
       "      <th></th>\n",
       "      <th>dme_code</th>\n",
       "      <th>occupation</th>\n",
       "      <th>gender</th>\n",
       "      <th>age_group</th>\n",
       "      <th>consumer_id</th>\n",
       "      <th>receipt_photo</th>\n",
       "      <th>latitude</th>\n",
       "      <th>longitude</th>\n",
       "      <th>created_at</th>\n",
       "    </tr>\n",
       "  </thead>\n",
       "  <tbody>\n",
       "    <tr>\n",
       "      <th>0</th>\n",
       "      <td>C24-0444</td>\n",
       "      <td>Others</td>\n",
       "      <td>Male</td>\n",
       "      <td>18 To 35</td>\n",
       "      <td>1764933199</td>\n",
       "      <td>MBN0176493319961825ef802997.jpg</td>\n",
       "      <td>24.485735</td>\n",
       "      <td>91.773165</td>\n",
       "      <td>03/11/2021 16:05</td>\n",
       "    </tr>\n",
       "    <tr>\n",
       "      <th>1</th>\n",
       "      <td>C24-4168</td>\n",
       "      <td>Others</td>\n",
       "      <td>Male</td>\n",
       "      <td>18 To 35</td>\n",
       "      <td>1979184404</td>\n",
       "      <td>MBN0197918440461824a47a5df4.jpg</td>\n",
       "      <td>24.485747</td>\n",
       "      <td>91.773178</td>\n",
       "      <td>03/11/2021 14:37</td>\n",
       "    </tr>\n",
       "    <tr>\n",
       "      <th>2</th>\n",
       "      <td>D22-1643398</td>\n",
       "      <td>Others</td>\n",
       "      <td>Male</td>\n",
       "      <td>35+</td>\n",
       "      <td>1727906696</td>\n",
       "      <td>MBN01727906696613e010d50b9e.jpg</td>\n",
       "      <td>25.133432</td>\n",
       "      <td>89.387789</td>\n",
       "      <td>09/12/2021 19:30</td>\n",
       "    </tr>\n",
       "    <tr>\n",
       "      <th>3</th>\n",
       "      <td>D37-1837</td>\n",
       "      <td>Others</td>\n",
       "      <td>Male</td>\n",
       "      <td>35+</td>\n",
       "      <td>1819145085</td>\n",
       "      <td>MBN018191450856191e534e9e37.jpg</td>\n",
       "      <td>23.741746</td>\n",
       "      <td>90.440214</td>\n",
       "      <td>15/11/2021 10:42</td>\n",
       "    </tr>\n",
       "    <tr>\n",
       "      <th>4</th>\n",
       "      <td>D37-1709</td>\n",
       "      <td>Others</td>\n",
       "      <td>Male</td>\n",
       "      <td>18 To 35</td>\n",
       "      <td>1790577257</td>\n",
       "      <td>MBN017905772576173bb6b1bcda.jpg</td>\n",
       "      <td>23.739274</td>\n",
       "      <td>90.433159</td>\n",
       "      <td>23/10/2021 13:36</td>\n",
       "    </tr>\n",
       "  </tbody>\n",
       "</table>\n",
       "</div>"
      ],
      "text/plain": [
       "      dme_code occupation gender age_group  consumer_id  \\\n",
       "0     C24-0444     Others   Male  18 To 35   1764933199   \n",
       "1     C24-4168     Others   Male  18 To 35   1979184404   \n",
       "2  D22-1643398     Others   Male       35+   1727906696   \n",
       "3     D37-1837     Others   Male       35+   1819145085   \n",
       "4     D37-1709     Others   Male  18 To 35   1790577257   \n",
       "\n",
       "                     receipt_photo   latitude  longitude        created_at  \n",
       "0  MBN0176493319961825ef802997.jpg  24.485735  91.773165  03/11/2021 16:05  \n",
       "1  MBN0197918440461824a47a5df4.jpg  24.485747  91.773178  03/11/2021 14:37  \n",
       "2  MBN01727906696613e010d50b9e.jpg  25.133432  89.387789  09/12/2021 19:30  \n",
       "3  MBN018191450856191e534e9e37.jpg  23.741746  90.440214  15/11/2021 10:42  \n",
       "4  MBN017905772576173bb6b1bcda.jpg  23.739274  90.433159  23/10/2021 13:36  "
      ]
     },
     "execution_count": 62,
     "metadata": {},
     "output_type": "execute_result"
    }
   ],
   "source": [
    "consumer_data = pd.read_csv('consumer_data_clean.csv')\n",
    "consumer_data.drop(\"Unnamed: 0\", axis=1, inplace=True) # Drop the index column coming with the data\n",
    "consumer_data.head()"
   ]
  },
  {
   "cell_type": "code",
   "execution_count": 63,
   "metadata": {
    "colab": {
     "base_uri": "https://localhost:8080/",
     "height": 206
    },
    "id": "tx5XCTnefqFh",
    "outputId": "17837633-4cef-4dfe-8fb2-39ae5c3dbea0"
   },
   "outputs": [
    {
     "data": {
      "text/html": [
       "<div>\n",
       "<style scoped>\n",
       "    .dataframe tbody tr th:only-of-type {\n",
       "        vertical-align: middle;\n",
       "    }\n",
       "\n",
       "    .dataframe tbody tr th {\n",
       "        vertical-align: top;\n",
       "    }\n",
       "\n",
       "    .dataframe thead th {\n",
       "        text-align: right;\n",
       "    }\n",
       "</style>\n",
       "<table border=\"1\" class=\"dataframe\">\n",
       "  <thead>\n",
       "    <tr style=\"text-align: right;\">\n",
       "      <th></th>\n",
       "      <th>image_id</th>\n",
       "      <th>date</th>\n",
       "      <th>sub_cat</th>\n",
       "    </tr>\n",
       "  </thead>\n",
       "  <tbody>\n",
       "    <tr>\n",
       "      <th>0</th>\n",
       "      <td>MBN0195665873561a4d3dc88ab7.jpg</td>\n",
       "      <td>2021-11-29</td>\n",
       "      <td>barsoap</td>\n",
       "    </tr>\n",
       "    <tr>\n",
       "      <th>1</th>\n",
       "      <td>MBN0175732205261a4a2f024f12.jpg</td>\n",
       "      <td>2021-11-29</td>\n",
       "      <td>barsoap</td>\n",
       "    </tr>\n",
       "    <tr>\n",
       "      <th>2</th>\n",
       "      <td>MBN0198695013961a49973377ea.jpg</td>\n",
       "      <td>2021-11-29</td>\n",
       "      <td>barsoap</td>\n",
       "    </tr>\n",
       "    <tr>\n",
       "      <th>3</th>\n",
       "      <td>MBN0185969571861a46128551ae.jpg</td>\n",
       "      <td>2021-11-29</td>\n",
       "      <td>barsoap</td>\n",
       "    </tr>\n",
       "    <tr>\n",
       "      <th>4</th>\n",
       "      <td>MBN0185931782461a45c0998d02.jpg</td>\n",
       "      <td>2021-11-29</td>\n",
       "      <td>barsoap</td>\n",
       "    </tr>\n",
       "  </tbody>\n",
       "</table>\n",
       "</div>"
      ],
      "text/plain": [
       "                          image_id        date  sub_cat\n",
       "0  MBN0195665873561a4d3dc88ab7.jpg  2021-11-29  barsoap\n",
       "1  MBN0175732205261a4a2f024f12.jpg  2021-11-29  barsoap\n",
       "2  MBN0198695013961a49973377ea.jpg  2021-11-29  barsoap\n",
       "3  MBN0185969571861a46128551ae.jpg  2021-11-29  barsoap\n",
       "4  MBN0185931782461a45c0998d02.jpg  2021-11-29  barsoap"
      ]
     },
     "execution_count": 63,
     "metadata": {},
     "output_type": "execute_result"
    }
   ],
   "source": [
    "transactions_data = pd.read_csv('transactions_sku_clean.csv')\n",
    "transactions_data.drop(\"Unnamed: 0\", axis=1, inplace=True) # Drop the index column coming with the data\n",
    "transactions_data.head()"
   ]
  },
  {
   "cell_type": "code",
   "execution_count": 64,
   "metadata": {
    "colab": {
     "base_uri": "https://localhost:8080/"
    },
    "id": "OwXY7Sx7JBSE",
    "outputId": "f7abe10b-a1d2-48cf-a20d-2a0382c4de86"
   },
   "outputs": [
    {
     "name": "stdout",
     "output_type": "stream",
     "text": [
      "<class 'pandas.core.frame.DataFrame'>\n",
      "RangeIndex: 710758 entries, 0 to 710757\n",
      "Data columns (total 9 columns):\n",
      " #   Column         Non-Null Count   Dtype  \n",
      "---  ------         --------------   -----  \n",
      " 0   dme_code       710758 non-null  object \n",
      " 1   occupation     710758 non-null  object \n",
      " 2   gender         710758 non-null  object \n",
      " 3   age_group      710758 non-null  object \n",
      " 4   consumer_id    710758 non-null  int64  \n",
      " 5   receipt_photo  710758 non-null  object \n",
      " 6   latitude       710758 non-null  float64\n",
      " 7   longitude      710758 non-null  float64\n",
      " 8   created_at     710758 non-null  object \n",
      "dtypes: float64(2), int64(1), object(6)\n",
      "memory usage: 48.8+ MB\n"
     ]
    }
   ],
   "source": [
    "consumer_data.info()"
   ]
  },
  {
   "cell_type": "markdown",
   "metadata": {
    "id": "mZ8Npn97KO1G"
   },
   "source": [
    "- There is no missing values to handle\n",
    "- There are 6 object attributes and 3 numericals one\n"
   ]
  },
  {
   "cell_type": "code",
   "execution_count": 65,
   "metadata": {
    "colab": {
     "base_uri": "https://localhost:8080/"
    },
    "id": "f6bA77tlJRR_",
    "outputId": "a3f5fb17-a787-42f9-d6e9-210aeffa257e"
   },
   "outputs": [
    {
     "name": "stdout",
     "output_type": "stream",
     "text": [
      "<class 'pandas.core.frame.DataFrame'>\n",
      "RangeIndex: 3411576 entries, 0 to 3411575\n",
      "Data columns (total 3 columns):\n",
      " #   Column    Dtype \n",
      "---  ------    ----- \n",
      " 0   image_id  object\n",
      " 1   date      object\n",
      " 2   sub_cat   object\n",
      "dtypes: object(3)\n",
      "memory usage: 78.1+ MB\n"
     ]
    }
   ],
   "source": [
    "transactions_data.info()"
   ]
  },
  {
   "cell_type": "markdown",
   "metadata": {
    "id": "-9CpJ9tuKnda"
   },
   "source": [
    "- All the attributes are categoricals"
   ]
  },
  {
   "cell_type": "code",
   "execution_count": 66,
   "metadata": {
    "colab": {
     "base_uri": "https://localhost:8080/",
     "height": 300
    },
    "id": "vwPrTbrCJYoI",
    "outputId": "2f07884d-d4e6-4dd8-d4d1-67a36306a58d"
   },
   "outputs": [
    {
     "data": {
      "text/html": [
       "<div>\n",
       "<style scoped>\n",
       "    .dataframe tbody tr th:only-of-type {\n",
       "        vertical-align: middle;\n",
       "    }\n",
       "\n",
       "    .dataframe tbody tr th {\n",
       "        vertical-align: top;\n",
       "    }\n",
       "\n",
       "    .dataframe thead th {\n",
       "        text-align: right;\n",
       "    }\n",
       "</style>\n",
       "<table border=\"1\" class=\"dataframe\">\n",
       "  <thead>\n",
       "    <tr style=\"text-align: right;\">\n",
       "      <th></th>\n",
       "      <th>consumer_id</th>\n",
       "      <th>latitude</th>\n",
       "      <th>longitude</th>\n",
       "    </tr>\n",
       "  </thead>\n",
       "  <tbody>\n",
       "    <tr>\n",
       "      <th>count</th>\n",
       "      <td>7.107580e+05</td>\n",
       "      <td>710758.000000</td>\n",
       "      <td>710758.000000</td>\n",
       "    </tr>\n",
       "    <tr>\n",
       "      <th>mean</th>\n",
       "      <td>1.753184e+09</td>\n",
       "      <td>23.890363</td>\n",
       "      <td>90.252808</td>\n",
       "    </tr>\n",
       "    <tr>\n",
       "      <th>std</th>\n",
       "      <td>1.607726e+08</td>\n",
       "      <td>0.822034</td>\n",
       "      <td>1.235818</td>\n",
       "    </tr>\n",
       "    <tr>\n",
       "      <th>min</th>\n",
       "      <td>1.300017e+09</td>\n",
       "      <td>-22.792103</td>\n",
       "      <td>-48.192263</td>\n",
       "    </tr>\n",
       "    <tr>\n",
       "      <th>25%</th>\n",
       "      <td>1.713503e+09</td>\n",
       "      <td>23.379247</td>\n",
       "      <td>89.540070</td>\n",
       "    </tr>\n",
       "    <tr>\n",
       "      <th>50%</th>\n",
       "      <td>1.763636e+09</td>\n",
       "      <td>23.815901</td>\n",
       "      <td>90.380726</td>\n",
       "    </tr>\n",
       "    <tr>\n",
       "      <th>75%</th>\n",
       "      <td>1.864288e+09</td>\n",
       "      <td>24.397638</td>\n",
       "      <td>90.847240</td>\n",
       "    </tr>\n",
       "    <tr>\n",
       "      <th>max</th>\n",
       "      <td>1.999998e+09</td>\n",
       "      <td>47.118397</td>\n",
       "      <td>121.552119</td>\n",
       "    </tr>\n",
       "  </tbody>\n",
       "</table>\n",
       "</div>"
      ],
      "text/plain": [
       "        consumer_id       latitude      longitude\n",
       "count  7.107580e+05  710758.000000  710758.000000\n",
       "mean   1.753184e+09      23.890363      90.252808\n",
       "std    1.607726e+08       0.822034       1.235818\n",
       "min    1.300017e+09     -22.792103     -48.192263\n",
       "25%    1.713503e+09      23.379247      89.540070\n",
       "50%    1.763636e+09      23.815901      90.380726\n",
       "75%    1.864288e+09      24.397638      90.847240\n",
       "max    1.999998e+09      47.118397     121.552119"
      ]
     },
     "execution_count": 66,
     "metadata": {},
     "output_type": "execute_result"
    }
   ],
   "source": [
    "consumer_data.describe()"
   ]
  },
  {
   "cell_type": "code",
   "execution_count": 67,
   "metadata": {
    "colab": {
     "base_uri": "https://localhost:8080/",
     "height": 300
    },
    "id": "Xy0_5ph8JhTD",
    "outputId": "8303f0d5-20ee-42c3-9fd1-0c16d410aa1d"
   },
   "outputs": [
    {
     "data": {
      "text/html": [
       "<div>\n",
       "<style scoped>\n",
       "    .dataframe tbody tr th:only-of-type {\n",
       "        vertical-align: middle;\n",
       "    }\n",
       "\n",
       "    .dataframe tbody tr th {\n",
       "        vertical-align: top;\n",
       "    }\n",
       "\n",
       "    .dataframe thead th {\n",
       "        text-align: right;\n",
       "    }\n",
       "</style>\n",
       "<table border=\"1\" class=\"dataframe\">\n",
       "  <thead>\n",
       "    <tr style=\"text-align: right;\">\n",
       "      <th></th>\n",
       "      <th>image_id</th>\n",
       "      <th>date</th>\n",
       "      <th>sub_cat</th>\n",
       "    </tr>\n",
       "  </thead>\n",
       "  <tbody>\n",
       "    <tr>\n",
       "      <th>count</th>\n",
       "      <td>3411576</td>\n",
       "      <td>3411576</td>\n",
       "      <td>3411576</td>\n",
       "    </tr>\n",
       "    <tr>\n",
       "      <th>unique</th>\n",
       "      <td>1183863</td>\n",
       "      <td>52</td>\n",
       "      <td>49</td>\n",
       "    </tr>\n",
       "    <tr>\n",
       "      <th>top</th>\n",
       "      <td>MBN019058574436052f09fb55bd.jpg</td>\n",
       "      <td>2022-04-02</td>\n",
       "      <td>barsoap_2</td>\n",
       "    </tr>\n",
       "    <tr>\n",
       "      <th>freq</th>\n",
       "      <td>28</td>\n",
       "      <td>1646677</td>\n",
       "      <td>587444</td>\n",
       "    </tr>\n",
       "  </tbody>\n",
       "</table>\n",
       "</div>"
      ],
      "text/plain": [
       "                               image_id        date    sub_cat\n",
       "count                           3411576     3411576    3411576\n",
       "unique                          1183863          52         49\n",
       "top     MBN019058574436052f09fb55bd.jpg  2022-04-02  barsoap_2\n",
       "freq                                 28     1646677     587444"
      ]
     },
     "execution_count": 67,
     "metadata": {},
     "output_type": "execute_result"
    }
   ],
   "source": [
    "transactions_data.describe()"
   ]
  },
  {
   "cell_type": "code",
   "execution_count": 68,
   "metadata": {
    "colab": {
     "base_uri": "https://localhost:8080/",
     "height": 175
    },
    "id": "U-uk6w7yJqwi",
    "outputId": "ce7f45ce-4b34-4d4b-aff0-419201e70860"
   },
   "outputs": [
    {
     "data": {
      "text/html": [
       "<div>\n",
       "<style scoped>\n",
       "    .dataframe tbody tr th:only-of-type {\n",
       "        vertical-align: middle;\n",
       "    }\n",
       "\n",
       "    .dataframe tbody tr th {\n",
       "        vertical-align: top;\n",
       "    }\n",
       "\n",
       "    .dataframe thead th {\n",
       "        text-align: right;\n",
       "    }\n",
       "</style>\n",
       "<table border=\"1\" class=\"dataframe\">\n",
       "  <thead>\n",
       "    <tr style=\"text-align: right;\">\n",
       "      <th></th>\n",
       "      <th>dme_code</th>\n",
       "      <th>occupation</th>\n",
       "      <th>gender</th>\n",
       "      <th>age_group</th>\n",
       "      <th>receipt_photo</th>\n",
       "      <th>created_at</th>\n",
       "    </tr>\n",
       "  </thead>\n",
       "  <tbody>\n",
       "    <tr>\n",
       "      <th>count</th>\n",
       "      <td>710758</td>\n",
       "      <td>710758</td>\n",
       "      <td>710758</td>\n",
       "      <td>710758</td>\n",
       "      <td>710758</td>\n",
       "      <td>710758</td>\n",
       "    </tr>\n",
       "    <tr>\n",
       "      <th>unique</th>\n",
       "      <td>38078</td>\n",
       "      <td>5</td>\n",
       "      <td>3</td>\n",
       "      <td>3</td>\n",
       "      <td>710757</td>\n",
       "      <td>35681</td>\n",
       "    </tr>\n",
       "    <tr>\n",
       "      <th>top</th>\n",
       "      <td>D40-11902</td>\n",
       "      <td>Service Holder</td>\n",
       "      <td>Male</td>\n",
       "      <td>18 To 35</td>\n",
       "      <td>MBN013079973396182906a8d6dc.jpg</td>\n",
       "      <td>21/10/2021 11:31</td>\n",
       "    </tr>\n",
       "    <tr>\n",
       "      <th>freq</th>\n",
       "      <td>838</td>\n",
       "      <td>285732</td>\n",
       "      <td>613511</td>\n",
       "      <td>570702</td>\n",
       "      <td>2</td>\n",
       "      <td>102</td>\n",
       "    </tr>\n",
       "  </tbody>\n",
       "</table>\n",
       "</div>"
      ],
      "text/plain": [
       "         dme_code      occupation  gender age_group  \\\n",
       "count      710758          710758  710758    710758   \n",
       "unique      38078               5       3         3   \n",
       "top     D40-11902  Service Holder    Male  18 To 35   \n",
       "freq          838          285732  613511    570702   \n",
       "\n",
       "                          receipt_photo        created_at  \n",
       "count                            710758            710758  \n",
       "unique                           710757             35681  \n",
       "top     MBN013079973396182906a8d6dc.jpg  21/10/2021 11:31  \n",
       "freq                                  2               102  "
      ]
     },
     "execution_count": 68,
     "metadata": {},
     "output_type": "execute_result"
    }
   ],
   "source": [
    "# Description of objects attributes in consumer_data\n",
    "consumer_data.describe(include='object')"
   ]
  },
  {
   "cell_type": "code",
   "execution_count": 69,
   "metadata": {
    "colab": {
     "base_uri": "https://localhost:8080/",
     "height": 175
    },
    "id": "_VJMoOAzJ7lP",
    "outputId": "07ca5234-2023-49b5-f257-6796bdc73012"
   },
   "outputs": [
    {
     "data": {
      "text/html": [
       "<div>\n",
       "<style scoped>\n",
       "    .dataframe tbody tr th:only-of-type {\n",
       "        vertical-align: middle;\n",
       "    }\n",
       "\n",
       "    .dataframe tbody tr th {\n",
       "        vertical-align: top;\n",
       "    }\n",
       "\n",
       "    .dataframe thead th {\n",
       "        text-align: right;\n",
       "    }\n",
       "</style>\n",
       "<table border=\"1\" class=\"dataframe\">\n",
       "  <thead>\n",
       "    <tr style=\"text-align: right;\">\n",
       "      <th></th>\n",
       "      <th>image_id</th>\n",
       "      <th>date</th>\n",
       "      <th>sub_cat</th>\n",
       "    </tr>\n",
       "  </thead>\n",
       "  <tbody>\n",
       "    <tr>\n",
       "      <th>count</th>\n",
       "      <td>3411576</td>\n",
       "      <td>3411576</td>\n",
       "      <td>3411576</td>\n",
       "    </tr>\n",
       "    <tr>\n",
       "      <th>unique</th>\n",
       "      <td>1183863</td>\n",
       "      <td>52</td>\n",
       "      <td>49</td>\n",
       "    </tr>\n",
       "    <tr>\n",
       "      <th>top</th>\n",
       "      <td>MBN019058574436052f09fb55bd.jpg</td>\n",
       "      <td>2022-04-02</td>\n",
       "      <td>barsoap_2</td>\n",
       "    </tr>\n",
       "    <tr>\n",
       "      <th>freq</th>\n",
       "      <td>28</td>\n",
       "      <td>1646677</td>\n",
       "      <td>587444</td>\n",
       "    </tr>\n",
       "  </tbody>\n",
       "</table>\n",
       "</div>"
      ],
      "text/plain": [
       "                               image_id        date    sub_cat\n",
       "count                           3411576     3411576    3411576\n",
       "unique                          1183863          52         49\n",
       "top     MBN019058574436052f09fb55bd.jpg  2022-04-02  barsoap_2\n",
       "freq                                 28     1646677     587444"
      ]
     },
     "execution_count": 69,
     "metadata": {},
     "output_type": "execute_result"
    }
   ],
   "source": [
    "# Description of objects attributes in transactions_data\n",
    "transactions_data.describe(include='object')"
   ]
  },
  {
   "cell_type": "markdown",
   "metadata": {
    "id": "58N8npAoLVBP"
   },
   "source": [
    "- There is no missing values in transactions_data table\n",
    "- There is too much sub_cat to be exploited. We will group sub_cat into bigger category"
   ]
  },
  {
   "cell_type": "markdown",
   "metadata": {
    "id": "F2pog-4QK72G"
   },
   "source": [
    "## Data Cleaning"
   ]
  },
  {
   "cell_type": "code",
   "execution_count": 70,
   "metadata": {
    "colab": {
     "base_uri": "https://localhost:8080/"
    },
    "id": "dcUCMtBtma3y",
    "outputId": "9e28e1e1-3109-49bb-b4e7-39242d502b06"
   },
   "outputs": [
    {
     "name": "stdout",
     "output_type": "stream",
     "text": [
      "shape before dropping duplicates in consumer_data (710758, 9)\n",
      "number of duplicates in consumer_data:  0\n",
      "shape before dropping duplicates in transactions_data (3411576, 3)\n",
      "number of duplicates in transactions_data: 180236\n"
     ]
    }
   ],
   "source": [
    "#let's drop duplicates rows in each table\n",
    "print(\"shape before dropping duplicates in consumer_data\", consumer_data.shape)\n",
    "print(\"number of duplicates in consumer_data: \", consumer_data.duplicated(keep='first').sum())\n",
    "print(\"shape before dropping duplicates in transactions_data\",transactions_data.shape)\n",
    "print(\"number of duplicates in transactions_data:\", transactions_data.duplicated(keep='first').sum())"
   ]
  },
  {
   "cell_type": "code",
   "execution_count": 71,
   "metadata": {
    "id": "6QwY1m98WynQ"
   },
   "outputs": [
    {
     "data": {
      "text/html": [
       "<div>\n",
       "<style scoped>\n",
       "    .dataframe tbody tr th:only-of-type {\n",
       "        vertical-align: middle;\n",
       "    }\n",
       "\n",
       "    .dataframe tbody tr th {\n",
       "        vertical-align: top;\n",
       "    }\n",
       "\n",
       "    .dataframe thead th {\n",
       "        text-align: right;\n",
       "    }\n",
       "</style>\n",
       "<table border=\"1\" class=\"dataframe\">\n",
       "  <thead>\n",
       "    <tr style=\"text-align: right;\">\n",
       "      <th></th>\n",
       "      <th>image_id</th>\n",
       "      <th>date</th>\n",
       "      <th>sub_cat</th>\n",
       "    </tr>\n",
       "  </thead>\n",
       "  <tbody>\n",
       "    <tr>\n",
       "      <th>7</th>\n",
       "      <td>MBN0175611883961a4bd3dbaa69.jpg</td>\n",
       "      <td>2021-11-29</td>\n",
       "      <td>barsoap</td>\n",
       "    </tr>\n",
       "    <tr>\n",
       "      <th>8</th>\n",
       "      <td>MBN0175611883961a4bd3dbaa69.jpg</td>\n",
       "      <td>2021-11-29</td>\n",
       "      <td>barsoap</td>\n",
       "    </tr>\n",
       "    <tr>\n",
       "      <th>9</th>\n",
       "      <td>MBN0175611883961a4bd3dbaa69.jpg</td>\n",
       "      <td>2021-11-29</td>\n",
       "      <td>barsoap</td>\n",
       "    </tr>\n",
       "    <tr>\n",
       "      <th>12</th>\n",
       "      <td>MBN0188353603061a4fc33ce0bb.jpg</td>\n",
       "      <td>2021-11-29</td>\n",
       "      <td>barsoap</td>\n",
       "    </tr>\n",
       "    <tr>\n",
       "      <th>13</th>\n",
       "      <td>MBN0188353603061a4fc33ce0bb.jpg</td>\n",
       "      <td>2021-11-29</td>\n",
       "      <td>barsoap</td>\n",
       "    </tr>\n",
       "    <tr>\n",
       "      <th>...</th>\n",
       "      <td>...</td>\n",
       "      <td>...</td>\n",
       "      <td>...</td>\n",
       "    </tr>\n",
       "    <tr>\n",
       "      <th>3411549</th>\n",
       "      <td>MBN017214432765e4ce6f8056a9.jpg</td>\n",
       "      <td>2022-04-02</td>\n",
       "      <td>beautycream</td>\n",
       "    </tr>\n",
       "    <tr>\n",
       "      <th>3411555</th>\n",
       "      <td>MBN017429417295e46ad00a2fa1.jpg</td>\n",
       "      <td>2022-04-02</td>\n",
       "      <td>beautycream</td>\n",
       "    </tr>\n",
       "    <tr>\n",
       "      <th>3411556</th>\n",
       "      <td>MBN017429417295e46ad00a2fa1.jpg</td>\n",
       "      <td>2022-04-02</td>\n",
       "      <td>beautycream</td>\n",
       "    </tr>\n",
       "    <tr>\n",
       "      <th>3411570</th>\n",
       "      <td>MBN01743917010604f2919a24e6.jpg</td>\n",
       "      <td>2022-04-02</td>\n",
       "      <td>beautycream</td>\n",
       "    </tr>\n",
       "    <tr>\n",
       "      <th>3411571</th>\n",
       "      <td>MBN01743917010604f2919a24e6.jpg</td>\n",
       "      <td>2022-04-02</td>\n",
       "      <td>beautycream</td>\n",
       "    </tr>\n",
       "  </tbody>\n",
       "</table>\n",
       "<p>342658 rows × 3 columns</p>\n",
       "</div>"
      ],
      "text/plain": [
       "                                image_id        date      sub_cat\n",
       "7        MBN0175611883961a4bd3dbaa69.jpg  2021-11-29      barsoap\n",
       "8        MBN0175611883961a4bd3dbaa69.jpg  2021-11-29      barsoap\n",
       "9        MBN0175611883961a4bd3dbaa69.jpg  2021-11-29      barsoap\n",
       "12       MBN0188353603061a4fc33ce0bb.jpg  2021-11-29      barsoap\n",
       "13       MBN0188353603061a4fc33ce0bb.jpg  2021-11-29      barsoap\n",
       "...                                  ...         ...          ...\n",
       "3411549  MBN017214432765e4ce6f8056a9.jpg  2022-04-02  beautycream\n",
       "3411555  MBN017429417295e46ad00a2fa1.jpg  2022-04-02  beautycream\n",
       "3411556  MBN017429417295e46ad00a2fa1.jpg  2022-04-02  beautycream\n",
       "3411570  MBN01743917010604f2919a24e6.jpg  2022-04-02  beautycream\n",
       "3411571  MBN01743917010604f2919a24e6.jpg  2022-04-02  beautycream\n",
       "\n",
       "[342658 rows x 3 columns]"
      ]
     },
     "execution_count": 71,
     "metadata": {},
     "output_type": "execute_result"
    }
   ],
   "source": [
    "# let's have a look at the duplicates rows in transaction_data table\n",
    "transactions_data[transactions_data.duplicated(keep=False)]"
   ]
  },
  {
   "cell_type": "markdown",
   "metadata": {},
   "source": [
    "The duplicates show us that in one receipt there eis a quantity of the same product to take into account"
   ]
  },
  {
   "cell_type": "code",
   "execution_count": 72,
   "metadata": {},
   "outputs": [
    {
     "data": {
      "text/html": [
       "<div>\n",
       "<style scoped>\n",
       "    .dataframe tbody tr th:only-of-type {\n",
       "        vertical-align: middle;\n",
       "    }\n",
       "\n",
       "    .dataframe tbody tr th {\n",
       "        vertical-align: top;\n",
       "    }\n",
       "\n",
       "    .dataframe thead th {\n",
       "        text-align: right;\n",
       "    }\n",
       "</style>\n",
       "<table border=\"1\" class=\"dataframe\">\n",
       "  <thead>\n",
       "    <tr style=\"text-align: right;\">\n",
       "      <th></th>\n",
       "      <th>image_id</th>\n",
       "      <th>date</th>\n",
       "      <th>sub_cat</th>\n",
       "      <th>quantity</th>\n",
       "    </tr>\n",
       "  </thead>\n",
       "  <tbody>\n",
       "    <tr>\n",
       "      <th>1516007</th>\n",
       "      <td>MBN01753809196604dfeb988806.jpg</td>\n",
       "      <td>2022-04-02</td>\n",
       "      <td>barsoap_2</td>\n",
       "      <td>9</td>\n",
       "    </tr>\n",
       "    <tr>\n",
       "      <th>416150</th>\n",
       "      <td>MBN01625002622616fb7ee25ac6.jpg</td>\n",
       "      <td>2021-10-20</td>\n",
       "      <td>barsoap_2</td>\n",
       "      <td>8</td>\n",
       "    </tr>\n",
       "    <tr>\n",
       "      <th>3162166</th>\n",
       "      <td>MBN0198674659361825bd6bd7a3.jpg</td>\n",
       "      <td>2021-11-03</td>\n",
       "      <td>barsoap</td>\n",
       "      <td>8</td>\n",
       "    </tr>\n",
       "  </tbody>\n",
       "</table>\n",
       "</div>"
      ],
      "text/plain": [
       "                                image_id        date    sub_cat  quantity\n",
       "1516007  MBN01753809196604dfeb988806.jpg  2022-04-02  barsoap_2         9\n",
       "416150   MBN01625002622616fb7ee25ac6.jpg  2021-10-20  barsoap_2         8\n",
       "3162166  MBN0198674659361825bd6bd7a3.jpg  2021-11-03    barsoap         8"
      ]
     },
     "execution_count": 72,
     "metadata": {},
     "output_type": "execute_result"
    }
   ],
   "source": [
    "transactions_data_grouped = transactions_data.groupby(['image_id', 'date', 'sub_cat'], as_index=False).size()\n",
    "transactions_data_grouped.sort_values(by ='size', ascending=False)\n",
    "transactions_data_grouped = transactions_data_grouped.rename(columns={'size':'quantity'})\n",
    "transactions_data_grouped.sort_values(by='quantity', ascending=False).head(n=3)"
   ]
  },
  {
   "cell_type": "code",
   "execution_count": 73,
   "metadata": {},
   "outputs": [
    {
     "name": "stdout",
     "output_type": "stream",
     "text": [
      " number of duplicates rows: 0\n"
     ]
    }
   ],
   "source": [
    "# Let's check for duplicate again\n",
    "print(\" number of duplicates rows:\", transactions_data_grouped.duplicated(keep=False).sum())"
   ]
  },
  {
   "cell_type": "code",
   "execution_count": 74,
   "metadata": {
    "id": "lsLYKp9ZSxkS"
   },
   "outputs": [],
   "source": [
    "# Let's reduce the number of product sub_cat by groupping each sub_cat in their respective product type categories\n",
    "def label_cat (row):\n",
    "   if row['sub_cat'] == 'barsoap_2' :\n",
    "      return 'Soap'\n",
    "   if row['sub_cat'] == 'barsoap' :\n",
    "      return 'Soap'\n",
    "   if row['sub_cat'] == 'comp_toothpaste_2' :\n",
    "      return 'Toiletry'\n",
    "   if row['sub_cat'] == 'dishsoap' :\n",
    "      return 'Cleaning Supplies'\n",
    "   if row['sub_cat'] == 'detergent' :\n",
    "      return 'Cleaning Supplies'\n",
    "   if row['sub_cat'] == 'beautycream' :\n",
    "      return 'Skincare'\n",
    "   if row['sub_cat'] == 'washing_powder' :\n",
    "      return 'Cleaning Supplies'\n",
    "   if row['sub_cat'] == 'comp_detergent' :\n",
    "      return 'Cleaning Supplies'\n",
    "   if row['sub_cat'] == 'barsoap_premium' :\n",
    "      return 'Soap'\n",
    "   if row['sub_cat'] == 'tea' :\n",
    "      return 'Drink'\n",
    "   if row['sub_cat'] == 'petrolium_jelly' :\n",
    "      return 'Skincare'\n",
    "   if row['sub_cat'] == 'barsoap_white' :\n",
    "      return 'Soap'\n",
    "   if row['sub_cat'] == 'dish_liquid' :\n",
    "      return 'Cleaning Supplies'\n",
    "   if row['sub_cat'] == 'washing_powder_500g' :\n",
    "      return 'Cleaning Supplies'\n",
    "   if row['sub_cat'] == 'toilet_cleaner_500ml' :\n",
    "      return 'Cleaning Supplies'\n",
    "   if row['sub_cat'] == 'toothpaste' :\n",
    "      return 'Toiletry'\n",
    "   if row['sub_cat'] == 'hot_drink_powder' :\n",
    "      return 'Drink'\n",
    "   if row['sub_cat'] == 'shampoo_men' :\n",
    "      return 'Shampoo'\n",
    "   if row['sub_cat'] == 'shampoo_women' :\n",
    "      return 'Shampoo'\n",
    "   if row['sub_cat'] == 'shampoo_premium' :\n",
    "      return 'Shampoo'\n",
    "   if row['sub_cat'] == 'barsoap_pink' :\n",
    "      return 'Soap'\n",
    "   if row['sub_cat'] == 'barsoap_red' :\n",
    "      return 'Soap'\n",
    "   if row['sub_cat'] == 'comp_toilet_cleaner' :\n",
    "      return 'Cleaning Supplies'\n",
    "   if row['sub_cat'] == 'bodywash' :\n",
    "      return 'Soap'\n",
    "   if row['sub_cat'] == 'detergent_premium' :\n",
    "      return 'Cleaning Supplies'\n",
    "   if row['sub_cat'] == 'facecream_white' :\n",
    "      return 'Skincare'   \n",
    "   if row['sub_cat'] == 'petrolium_jelly' :\n",
    "      return 'Skincare'\n",
    "   if row['sub_cat'] == 'lotion' :\n",
    "      return 'Skincare'\n",
    "   if row['sub_cat'] == 'facecream' :\n",
    "      return 'Skincare'\n",
    "   if row['sub_cat'] == 'comp_barsoap_2' :\n",
    "      return 'Soap'\n",
    "   if row['sub_cat'] == 'toilet_cleaner_750ml' :\n",
    "      return 'Cleaning Supplies'\n",
    "   if row['sub_cat'] == 'comp_barsoap_1' :\n",
    "      return 'Soap'\n",
    "   if row['sub_cat'] == 'washing_liquid' :\n",
    "      return 'Cleaning Supplies'\n",
    "   if row['sub_cat'] == 'facewash' :\n",
    "      return 'Facewash'\n",
    "   if row['sub_cat'] == 'toilet_cleaner_250ml' :\n",
    "      return 'Cleaning Supplies'\n",
    "   if row['sub_cat'] == 'toothpowder' :\n",
    "      return 'Toiletry'\n",
    "   if row['sub_cat'] == 'washing_powder_200g' :\n",
    "      return 'Cleaning Supplies'\n",
    "   if row['sub_cat'] == 'dish_powder' :\n",
    "      return 'Cleaning Supplies'\n",
    "   if row['sub_cat'] == 'comp_toothpaste' :\n",
    "      return 'Toiletry'\n",
    "   if row['sub_cat'] == 'toilet_cleaner_100ml' :\n",
    "      return 'Cleaning Supplies'\n",
    "   if row['sub_cat'] == 'facecream_vanishing' :\n",
    "      return 'Facecream'\n",
    "   if row['sub_cat'] == 'comp_toothpowder' :\n",
    "      return 'Toiletry'\n",
    "   if row['sub_cat'] == 'facewash_premium' :\n",
    "      return 'Facewash'\n",
    "   if row['sub_cat'] == 'facecream_bright' :\n",
    "      return 'Facewash'\n",
    "   if row['sub_cat'] == 'shampoo_premium_sachet' :\n",
    "      return 'Shampoo'\n",
    "   if row['sub_cat'] == 'barsoap_pack' :\n",
    "      return 'Soap'\n",
    "   if row['sub_cat'] == 'comp_dishsoap' :\n",
    "      return 'Cleaning Supplies'\n",
    "   if row['sub_cat'] == 'lotion_premium' :\n",
    "      return 'Skincare'\n",
    "   if row['sub_cat'] == 'conditioner_premium' :\n",
    "      return 'Shampoo'\n",
    "   if row['sub_cat'] == 'comp_shampoo' :\n",
    "      return 'Shampoo'\n",
    "   return 'Other'"
   ]
  },
  {
   "cell_type": "code",
   "execution_count": 75,
   "metadata": {
    "colab": {
     "background_save": true
    },
    "id": "keX-UCrhTk2X"
   },
   "outputs": [],
   "source": [
    "# Apply the function to create category column\n",
    "transactions_data_cat = transactions_data_grouped.copy()\n",
    "transactions_data_cat['cat_label']= transactions_data_cat.apply(lambda x: label_cat(x), axis=1)"
   ]
  },
  {
   "cell_type": "code",
   "execution_count": 76,
   "metadata": {
    "colab": {
     "background_save": true,
     "base_uri": "https://localhost:8080/",
     "height": 161
    },
    "id": "flwpl0_BVViI",
    "outputId": "8c6d9290-486c-44ab-95d5-2fbe9f5b927d"
   },
   "outputs": [
    {
     "name": "stdout",
     "output_type": "stream",
     "text": [
      "(3231340, 5)\n"
     ]
    },
    {
     "data": {
      "text/html": [
       "<div>\n",
       "<style scoped>\n",
       "    .dataframe tbody tr th:only-of-type {\n",
       "        vertical-align: middle;\n",
       "    }\n",
       "\n",
       "    .dataframe tbody tr th {\n",
       "        vertical-align: top;\n",
       "    }\n",
       "\n",
       "    .dataframe thead th {\n",
       "        text-align: right;\n",
       "    }\n",
       "</style>\n",
       "<table border=\"1\" class=\"dataframe\">\n",
       "  <thead>\n",
       "    <tr style=\"text-align: right;\">\n",
       "      <th></th>\n",
       "      <th>image_id</th>\n",
       "      <th>date</th>\n",
       "      <th>sub_cat</th>\n",
       "      <th>quantity</th>\n",
       "      <th>cat_label</th>\n",
       "    </tr>\n",
       "  </thead>\n",
       "  <tbody>\n",
       "    <tr>\n",
       "      <th>0</th>\n",
       "      <td>MBN01300010263600e857ed71ec.jpg</td>\n",
       "      <td>2022-04-02</td>\n",
       "      <td>barsoap</td>\n",
       "      <td>1</td>\n",
       "      <td>Soap</td>\n",
       "    </tr>\n",
       "    <tr>\n",
       "      <th>1</th>\n",
       "      <td>MBN01300010263600e857ed71ec.jpg</td>\n",
       "      <td>2022-04-02</td>\n",
       "      <td>beautycream</td>\n",
       "      <td>1</td>\n",
       "      <td>Skincare</td>\n",
       "    </tr>\n",
       "    <tr>\n",
       "      <th>2</th>\n",
       "      <td>MBN0130001478560339aa367398.jpg</td>\n",
       "      <td>2022-04-02</td>\n",
       "      <td>barsoap</td>\n",
       "      <td>1</td>\n",
       "      <td>Soap</td>\n",
       "    </tr>\n",
       "  </tbody>\n",
       "</table>\n",
       "</div>"
      ],
      "text/plain": [
       "                          image_id        date      sub_cat  quantity  \\\n",
       "0  MBN01300010263600e857ed71ec.jpg  2022-04-02      barsoap         1   \n",
       "1  MBN01300010263600e857ed71ec.jpg  2022-04-02  beautycream         1   \n",
       "2  MBN0130001478560339aa367398.jpg  2022-04-02      barsoap         1   \n",
       "\n",
       "  cat_label  \n",
       "0      Soap  \n",
       "1  Skincare  \n",
       "2      Soap  "
      ]
     },
     "execution_count": 76,
     "metadata": {},
     "output_type": "execute_result"
    }
   ],
   "source": [
    "print(transactions_data_cat.shape)\n",
    "transactions_data_cat.head(n=3)"
   ]
  },
  {
   "cell_type": "code",
   "execution_count": 77,
   "metadata": {
    "colab": {
     "background_save": true,
     "base_uri": "https://localhost:8080/"
    },
    "id": "BDKoPCjrX2Kr",
    "outputId": "39ee7198-0b15-4d4d-ee94-aa22be4b1466"
   },
   "outputs": [
    {
     "data": {
      "text/plain": [
       "Soap                 1165774\n",
       "Cleaning Supplies     917908\n",
       "Skincare              409766\n",
       "Toiletry              363059\n",
       "Drink                 253099\n",
       "Shampoo               113586\n",
       "Facewash                7413\n",
       "Facecream                735\n",
       "Name: cat_label, dtype: int64"
      ]
     },
     "execution_count": 77,
     "metadata": {},
     "output_type": "execute_result"
    }
   ],
   "source": [
    "transactions_data_cat.cat_label.value_counts()"
   ]
  },
  {
   "cell_type": "markdown",
   "metadata": {
    "id": "jVWXZXeC1I8-"
   },
   "source": [
    "##  Joining the two datasets on \"receipt_photo\" and \"image_id\" "
   ]
  },
  {
   "cell_type": "code",
   "execution_count": 78,
   "metadata": {
    "colab": {
     "background_save": true,
     "base_uri": "https://localhost:8080/"
    },
    "id": "VB5W8E2ljwxA",
    "outputId": "d5011eef-d69e-4d68-c637-109e810fb9c0"
   },
   "outputs": [
    {
     "name": "stdout",
     "output_type": "stream",
     "text": [
      "number of unique receipts in consumer_data:  710757\n",
      "number of unique image_id in transactions data : 1183863\n"
     ]
    }
   ],
   "source": [
    "print(\"number of unique receipts in consumer_data: \", consumer_data[\"receipt_photo\"].nunique())\n",
    "print(\"number of unique image_id in transactions data :\",transactions_data[\"image_id\"].nunique())"
   ]
  },
  {
   "cell_type": "code",
   "execution_count": 79,
   "metadata": {
    "colab": {
     "background_save": true,
     "base_uri": "https://localhost:8080/"
    },
    "id": "8Z2bf_Pz0PP-",
    "outputId": "253986c2-17d9-452f-a94d-bb4c45c65882"
   },
   "outputs": [
    {
     "data": {
      "text/plain": [
       "710758"
      ]
     },
     "execution_count": 79,
     "metadata": {},
     "output_type": "execute_result"
    }
   ],
   "source": [
    "# Verify that all the receip_photo has the file extension \".jgp\"\n",
    "consumer_data.receipt_photo.str.contains(\".jpg\").count()"
   ]
  },
  {
   "cell_type": "markdown",
   "metadata": {
    "id": "LGgfgdoHNWjt"
   },
   "source": [
    "- All the rows are well formated to .jpg"
   ]
  },
  {
   "cell_type": "code",
   "execution_count": 80,
   "metadata": {
    "colab": {
     "base_uri": "https://localhost:8080/"
    },
    "id": "eBEn4Yi50ujf",
    "outputId": "5bdf1771-7f6d-41f0-e176-1b7beaee94ff"
   },
   "outputs": [
    {
     "data": {
      "text/plain": [
       "3231340"
      ]
     },
     "execution_count": 80,
     "metadata": {},
     "output_type": "execute_result"
    }
   ],
   "source": [
    "# Verify that all the image_id has the file extension \".jgp\"\n",
    "transactions_data_cat.image_id.str.contains(\".jpg\").count()\n"
   ]
  },
  {
   "cell_type": "markdown",
   "metadata": {
    "id": "saII7UBbNMG9"
   },
   "source": [
    "- All the rows are well formatted to .jpg"
   ]
  },
  {
   "cell_type": "code",
   "execution_count": 81,
   "metadata": {
    "id": "iZifz73L3DQb"
   },
   "outputs": [],
   "source": [
    "# Formating the receip_photo and image id in lowercase\n",
    "consumer_data.receipt_photo = consumer_data.receipt_photo.str.lower()\n",
    "transactions_data_cat.image_id = transactions_data_cat.image_id.str.lower()"
   ]
  },
  {
   "cell_type": "code",
   "execution_count": 82,
   "metadata": {
    "colab": {
     "base_uri": "https://localhost:8080/"
    },
    "id": "5f0i8q6OxvGk",
    "outputId": "3d8a3d3a-bd64-419c-867f-1275a313defe"
   },
   "outputs": [
    {
     "name": "stdout",
     "output_type": "stream",
     "text": [
      "(1670272, 14)\n",
      "number of duplicates rows in the merged data : 0\n"
     ]
    }
   ],
   "source": [
    "# Merging the datasets\n",
    "data_merged = pd.merge(consumer_data, transactions_data_cat, how=\"inner\", left_on=\"receipt_photo\", right_on=\"image_id\")\n",
    "print(data_merged.shape)\n",
    "# check for any duplicates\n",
    "print(\"number of duplicates rows in the merged data :\", data_merged.duplicated(keep='first').sum())"
   ]
  },
  {
   "cell_type": "markdown",
   "metadata": {
    "id": "fo74ZM7MNcVF"
   },
   "source": [
    "- We did the  **inner join** because we estime that to realise the customer segmentation of a customer, we need his social information but also his purchases history and use features as the Recency and the Frequency"
   ]
  },
  {
   "cell_type": "code",
   "execution_count": 83,
   "metadata": {
    "colab": {
     "base_uri": "https://localhost:8080/",
     "height": 357
    },
    "id": "yX-06m2iy6DC",
    "outputId": "ec5f0604-b746-4ba4-fa24-9b6c253c9c17"
   },
   "outputs": [
    {
     "data": {
      "text/html": [
       "<div>\n",
       "<style scoped>\n",
       "    .dataframe tbody tr th:only-of-type {\n",
       "        vertical-align: middle;\n",
       "    }\n",
       "\n",
       "    .dataframe tbody tr th {\n",
       "        vertical-align: top;\n",
       "    }\n",
       "\n",
       "    .dataframe thead th {\n",
       "        text-align: right;\n",
       "    }\n",
       "</style>\n",
       "<table border=\"1\" class=\"dataframe\">\n",
       "  <thead>\n",
       "    <tr style=\"text-align: right;\">\n",
       "      <th></th>\n",
       "      <th>dme_code</th>\n",
       "      <th>occupation</th>\n",
       "      <th>gender</th>\n",
       "      <th>age_group</th>\n",
       "      <th>consumer_id</th>\n",
       "      <th>receipt_photo</th>\n",
       "      <th>latitude</th>\n",
       "      <th>longitude</th>\n",
       "      <th>created_at</th>\n",
       "      <th>image_id</th>\n",
       "      <th>date</th>\n",
       "      <th>sub_cat</th>\n",
       "      <th>quantity</th>\n",
       "      <th>cat_label</th>\n",
       "    </tr>\n",
       "  </thead>\n",
       "  <tbody>\n",
       "    <tr>\n",
       "      <th>0</th>\n",
       "      <td>C24-0444</td>\n",
       "      <td>Others</td>\n",
       "      <td>Male</td>\n",
       "      <td>18 To 35</td>\n",
       "      <td>1764933199</td>\n",
       "      <td>mbn0176493319961825ef802997.jpg</td>\n",
       "      <td>24.485735</td>\n",
       "      <td>91.773165</td>\n",
       "      <td>03/11/2021 16:05</td>\n",
       "      <td>mbn0176493319961825ef802997.jpg</td>\n",
       "      <td>2021-11-03</td>\n",
       "      <td>beautycream</td>\n",
       "      <td>2</td>\n",
       "      <td>Skincare</td>\n",
       "    </tr>\n",
       "    <tr>\n",
       "      <th>1</th>\n",
       "      <td>C24-0444</td>\n",
       "      <td>Others</td>\n",
       "      <td>Male</td>\n",
       "      <td>18 To 35</td>\n",
       "      <td>1764933199</td>\n",
       "      <td>mbn0176493319961825ef802997.jpg</td>\n",
       "      <td>24.485735</td>\n",
       "      <td>91.773165</td>\n",
       "      <td>03/11/2021 16:05</td>\n",
       "      <td>mbn0176493319961825ef802997.jpg</td>\n",
       "      <td>2021-11-03</td>\n",
       "      <td>bodywash</td>\n",
       "      <td>2</td>\n",
       "      <td>Soap</td>\n",
       "    </tr>\n",
       "    <tr>\n",
       "      <th>2</th>\n",
       "      <td>C24-0444</td>\n",
       "      <td>Others</td>\n",
       "      <td>Male</td>\n",
       "      <td>18 To 35</td>\n",
       "      <td>1764933199</td>\n",
       "      <td>mbn0176493319961825ef802997.jpg</td>\n",
       "      <td>24.485735</td>\n",
       "      <td>91.773165</td>\n",
       "      <td>03/11/2021 16:05</td>\n",
       "      <td>mbn0176493319961825ef802997.jpg</td>\n",
       "      <td>2021-11-03</td>\n",
       "      <td>dish_liquid</td>\n",
       "      <td>2</td>\n",
       "      <td>Cleaning Supplies</td>\n",
       "    </tr>\n",
       "    <tr>\n",
       "      <th>3</th>\n",
       "      <td>C24-0444</td>\n",
       "      <td>Others</td>\n",
       "      <td>Male</td>\n",
       "      <td>18 To 35</td>\n",
       "      <td>1764933199</td>\n",
       "      <td>mbn0176493319961825ef802997.jpg</td>\n",
       "      <td>24.485735</td>\n",
       "      <td>91.773165</td>\n",
       "      <td>03/11/2021 16:05</td>\n",
       "      <td>mbn0176493319961825ef802997.jpg</td>\n",
       "      <td>2021-11-03</td>\n",
       "      <td>hot_drink_powder</td>\n",
       "      <td>2</td>\n",
       "      <td>Drink</td>\n",
       "    </tr>\n",
       "    <tr>\n",
       "      <th>4</th>\n",
       "      <td>C24-0444</td>\n",
       "      <td>Others</td>\n",
       "      <td>Male</td>\n",
       "      <td>18 To 35</td>\n",
       "      <td>1764933199</td>\n",
       "      <td>mbn0176493319961825ef802997.jpg</td>\n",
       "      <td>24.485735</td>\n",
       "      <td>91.773165</td>\n",
       "      <td>03/11/2021 16:05</td>\n",
       "      <td>mbn0176493319961825ef802997.jpg</td>\n",
       "      <td>2021-11-03</td>\n",
       "      <td>washing_powder_500g</td>\n",
       "      <td>2</td>\n",
       "      <td>Cleaning Supplies</td>\n",
       "    </tr>\n",
       "  </tbody>\n",
       "</table>\n",
       "</div>"
      ],
      "text/plain": [
       "   dme_code occupation gender age_group  consumer_id  \\\n",
       "0  C24-0444     Others   Male  18 To 35   1764933199   \n",
       "1  C24-0444     Others   Male  18 To 35   1764933199   \n",
       "2  C24-0444     Others   Male  18 To 35   1764933199   \n",
       "3  C24-0444     Others   Male  18 To 35   1764933199   \n",
       "4  C24-0444     Others   Male  18 To 35   1764933199   \n",
       "\n",
       "                     receipt_photo   latitude  longitude        created_at  \\\n",
       "0  mbn0176493319961825ef802997.jpg  24.485735  91.773165  03/11/2021 16:05   \n",
       "1  mbn0176493319961825ef802997.jpg  24.485735  91.773165  03/11/2021 16:05   \n",
       "2  mbn0176493319961825ef802997.jpg  24.485735  91.773165  03/11/2021 16:05   \n",
       "3  mbn0176493319961825ef802997.jpg  24.485735  91.773165  03/11/2021 16:05   \n",
       "4  mbn0176493319961825ef802997.jpg  24.485735  91.773165  03/11/2021 16:05   \n",
       "\n",
       "                          image_id        date              sub_cat  quantity  \\\n",
       "0  mbn0176493319961825ef802997.jpg  2021-11-03          beautycream         2   \n",
       "1  mbn0176493319961825ef802997.jpg  2021-11-03             bodywash         2   \n",
       "2  mbn0176493319961825ef802997.jpg  2021-11-03          dish_liquid         2   \n",
       "3  mbn0176493319961825ef802997.jpg  2021-11-03     hot_drink_powder         2   \n",
       "4  mbn0176493319961825ef802997.jpg  2021-11-03  washing_powder_500g         2   \n",
       "\n",
       "           cat_label  \n",
       "0           Skincare  \n",
       "1               Soap  \n",
       "2  Cleaning Supplies  \n",
       "3              Drink  \n",
       "4  Cleaning Supplies  "
      ]
     },
     "execution_count": 83,
     "metadata": {},
     "output_type": "execute_result"
    }
   ],
   "source": [
    "data_merged.head()"
   ]
  },
  {
   "cell_type": "markdown",
   "metadata": {
    "id": "_BuX94hf6WrE"
   },
   "source": [
    "## Création de nouvequ features RFM: dernière date d'achat, frequence d'achat, nombre de facture, nombre total d'achat par produits"
   ]
  },
  {
   "cell_type": "code",
   "execution_count": 84,
   "metadata": {
    "id": "g39_AebS-KGx"
   },
   "outputs": [],
   "source": [
    "# data format convertion to datetime\n",
    "data_merged[\"date\"] = pd.to_datetime(data_merged[\"date\"])"
   ]
  },
  {
   "cell_type": "code",
   "execution_count": 85,
   "metadata": {
    "id": "g-LwtkZC7DWF"
   },
   "outputs": [],
   "source": [
    "# Creation of the recency features\n",
    "data_merged[\"recency\"] = (data_merged[\"date\"].max()- data_merged[\"date\"]).dt.days"
   ]
  },
  {
   "cell_type": "code",
   "execution_count": 86,
   "metadata": {
    "id": "eMCgpqj3z3uM"
   },
   "outputs": [
    {
     "data": {
      "text/html": [
       "<div>\n",
       "<style scoped>\n",
       "    .dataframe tbody tr th:only-of-type {\n",
       "        vertical-align: middle;\n",
       "    }\n",
       "\n",
       "    .dataframe tbody tr th {\n",
       "        vertical-align: top;\n",
       "    }\n",
       "\n",
       "    .dataframe thead th {\n",
       "        text-align: right;\n",
       "    }\n",
       "</style>\n",
       "<table border=\"1\" class=\"dataframe\">\n",
       "  <thead>\n",
       "    <tr style=\"text-align: right;\">\n",
       "      <th></th>\n",
       "      <th>occupation</th>\n",
       "      <th>gender</th>\n",
       "      <th>age_group</th>\n",
       "      <th>consumer_id</th>\n",
       "      <th>receipt_photo</th>\n",
       "      <th>latitude</th>\n",
       "      <th>longitude</th>\n",
       "      <th>date</th>\n",
       "      <th>sub_cat</th>\n",
       "      <th>quantity</th>\n",
       "      <th>cat_label</th>\n",
       "      <th>recency</th>\n",
       "    </tr>\n",
       "  </thead>\n",
       "  <tbody>\n",
       "    <tr>\n",
       "      <th>0</th>\n",
       "      <td>Others</td>\n",
       "      <td>Male</td>\n",
       "      <td>18 To 35</td>\n",
       "      <td>1764933199</td>\n",
       "      <td>mbn0176493319961825ef802997.jpg</td>\n",
       "      <td>24.485735</td>\n",
       "      <td>91.773165</td>\n",
       "      <td>2021-11-03</td>\n",
       "      <td>beautycream</td>\n",
       "      <td>2</td>\n",
       "      <td>Skincare</td>\n",
       "      <td>34</td>\n",
       "    </tr>\n",
       "    <tr>\n",
       "      <th>1</th>\n",
       "      <td>Others</td>\n",
       "      <td>Male</td>\n",
       "      <td>18 To 35</td>\n",
       "      <td>1764933199</td>\n",
       "      <td>mbn0176493319961825ef802997.jpg</td>\n",
       "      <td>24.485735</td>\n",
       "      <td>91.773165</td>\n",
       "      <td>2021-11-03</td>\n",
       "      <td>bodywash</td>\n",
       "      <td>2</td>\n",
       "      <td>Soap</td>\n",
       "      <td>34</td>\n",
       "    </tr>\n",
       "    <tr>\n",
       "      <th>2</th>\n",
       "      <td>Others</td>\n",
       "      <td>Male</td>\n",
       "      <td>18 To 35</td>\n",
       "      <td>1764933199</td>\n",
       "      <td>mbn0176493319961825ef802997.jpg</td>\n",
       "      <td>24.485735</td>\n",
       "      <td>91.773165</td>\n",
       "      <td>2021-11-03</td>\n",
       "      <td>dish_liquid</td>\n",
       "      <td>2</td>\n",
       "      <td>Cleaning Supplies</td>\n",
       "      <td>34</td>\n",
       "    </tr>\n",
       "    <tr>\n",
       "      <th>3</th>\n",
       "      <td>Others</td>\n",
       "      <td>Male</td>\n",
       "      <td>18 To 35</td>\n",
       "      <td>1764933199</td>\n",
       "      <td>mbn0176493319961825ef802997.jpg</td>\n",
       "      <td>24.485735</td>\n",
       "      <td>91.773165</td>\n",
       "      <td>2021-11-03</td>\n",
       "      <td>hot_drink_powder</td>\n",
       "      <td>2</td>\n",
       "      <td>Drink</td>\n",
       "      <td>34</td>\n",
       "    </tr>\n",
       "    <tr>\n",
       "      <th>4</th>\n",
       "      <td>Others</td>\n",
       "      <td>Male</td>\n",
       "      <td>18 To 35</td>\n",
       "      <td>1764933199</td>\n",
       "      <td>mbn0176493319961825ef802997.jpg</td>\n",
       "      <td>24.485735</td>\n",
       "      <td>91.773165</td>\n",
       "      <td>2021-11-03</td>\n",
       "      <td>washing_powder_500g</td>\n",
       "      <td>2</td>\n",
       "      <td>Cleaning Supplies</td>\n",
       "      <td>34</td>\n",
       "    </tr>\n",
       "    <tr>\n",
       "      <th>...</th>\n",
       "      <td>...</td>\n",
       "      <td>...</td>\n",
       "      <td>...</td>\n",
       "      <td>...</td>\n",
       "      <td>...</td>\n",
       "      <td>...</td>\n",
       "      <td>...</td>\n",
       "      <td>...</td>\n",
       "      <td>...</td>\n",
       "      <td>...</td>\n",
       "      <td>...</td>\n",
       "      <td>...</td>\n",
       "    </tr>\n",
       "    <tr>\n",
       "      <th>1670267</th>\n",
       "      <td>Service Holder</td>\n",
       "      <td>Male</td>\n",
       "      <td>18 To 35</td>\n",
       "      <td>1883916232</td>\n",
       "      <td>mbn01883916232616f86e65300c.jpg</td>\n",
       "      <td>22.394454</td>\n",
       "      <td>90.584895</td>\n",
       "      <td>2021-10-20</td>\n",
       "      <td>barsoap_2</td>\n",
       "      <td>1</td>\n",
       "      <td>Soap</td>\n",
       "      <td>48</td>\n",
       "    </tr>\n",
       "    <tr>\n",
       "      <th>1670268</th>\n",
       "      <td>Service Holder</td>\n",
       "      <td>Male</td>\n",
       "      <td>18 To 35</td>\n",
       "      <td>1719782715</td>\n",
       "      <td>mbn01719782715617262bc45118.jpg</td>\n",
       "      <td>22.393625</td>\n",
       "      <td>90.588009</td>\n",
       "      <td>2021-10-22</td>\n",
       "      <td>barsoap</td>\n",
       "      <td>1</td>\n",
       "      <td>Soap</td>\n",
       "      <td>46</td>\n",
       "    </tr>\n",
       "    <tr>\n",
       "      <th>1670269</th>\n",
       "      <td>Service Holder</td>\n",
       "      <td>Male</td>\n",
       "      <td>18 To 35</td>\n",
       "      <td>1719782715</td>\n",
       "      <td>mbn01719782715617262bc45118.jpg</td>\n",
       "      <td>22.393625</td>\n",
       "      <td>90.588009</td>\n",
       "      <td>2021-10-22</td>\n",
       "      <td>washing_powder_500g</td>\n",
       "      <td>1</td>\n",
       "      <td>Cleaning Supplies</td>\n",
       "      <td>46</td>\n",
       "    </tr>\n",
       "    <tr>\n",
       "      <th>1670270</th>\n",
       "      <td>Service Holder</td>\n",
       "      <td>Male</td>\n",
       "      <td>18 To 35</td>\n",
       "      <td>1726655284</td>\n",
       "      <td>mbn01726655284616e9fad65f13.jpg</td>\n",
       "      <td>22.394058</td>\n",
       "      <td>90.585020</td>\n",
       "      <td>2021-10-19</td>\n",
       "      <td>barsoap_2</td>\n",
       "      <td>1</td>\n",
       "      <td>Soap</td>\n",
       "      <td>49</td>\n",
       "    </tr>\n",
       "    <tr>\n",
       "      <th>1670271</th>\n",
       "      <td>Service Holder</td>\n",
       "      <td>Male</td>\n",
       "      <td>18 To 35</td>\n",
       "      <td>1726655284</td>\n",
       "      <td>mbn01726655284616e9fad65f13.jpg</td>\n",
       "      <td>22.394058</td>\n",
       "      <td>90.585020</td>\n",
       "      <td>2021-10-19</td>\n",
       "      <td>shampoo_men</td>\n",
       "      <td>1</td>\n",
       "      <td>Shampoo</td>\n",
       "      <td>49</td>\n",
       "    </tr>\n",
       "  </tbody>\n",
       "</table>\n",
       "<p>1670272 rows × 12 columns</p>\n",
       "</div>"
      ],
      "text/plain": [
       "             occupation gender age_group  consumer_id  \\\n",
       "0                Others   Male  18 To 35   1764933199   \n",
       "1                Others   Male  18 To 35   1764933199   \n",
       "2                Others   Male  18 To 35   1764933199   \n",
       "3                Others   Male  18 To 35   1764933199   \n",
       "4                Others   Male  18 To 35   1764933199   \n",
       "...                 ...    ...       ...          ...   \n",
       "1670267  Service Holder   Male  18 To 35   1883916232   \n",
       "1670268  Service Holder   Male  18 To 35   1719782715   \n",
       "1670269  Service Holder   Male  18 To 35   1719782715   \n",
       "1670270  Service Holder   Male  18 To 35   1726655284   \n",
       "1670271  Service Holder   Male  18 To 35   1726655284   \n",
       "\n",
       "                           receipt_photo   latitude  longitude       date  \\\n",
       "0        mbn0176493319961825ef802997.jpg  24.485735  91.773165 2021-11-03   \n",
       "1        mbn0176493319961825ef802997.jpg  24.485735  91.773165 2021-11-03   \n",
       "2        mbn0176493319961825ef802997.jpg  24.485735  91.773165 2021-11-03   \n",
       "3        mbn0176493319961825ef802997.jpg  24.485735  91.773165 2021-11-03   \n",
       "4        mbn0176493319961825ef802997.jpg  24.485735  91.773165 2021-11-03   \n",
       "...                                  ...        ...        ...        ...   \n",
       "1670267  mbn01883916232616f86e65300c.jpg  22.394454  90.584895 2021-10-20   \n",
       "1670268  mbn01719782715617262bc45118.jpg  22.393625  90.588009 2021-10-22   \n",
       "1670269  mbn01719782715617262bc45118.jpg  22.393625  90.588009 2021-10-22   \n",
       "1670270  mbn01726655284616e9fad65f13.jpg  22.394058  90.585020 2021-10-19   \n",
       "1670271  mbn01726655284616e9fad65f13.jpg  22.394058  90.585020 2021-10-19   \n",
       "\n",
       "                     sub_cat  quantity          cat_label  recency  \n",
       "0                beautycream         2           Skincare       34  \n",
       "1                   bodywash         2               Soap       34  \n",
       "2                dish_liquid         2  Cleaning Supplies       34  \n",
       "3           hot_drink_powder         2              Drink       34  \n",
       "4        washing_powder_500g         2  Cleaning Supplies       34  \n",
       "...                      ...       ...                ...      ...  \n",
       "1670267            barsoap_2         1               Soap       48  \n",
       "1670268              barsoap         1               Soap       46  \n",
       "1670269  washing_powder_500g         1  Cleaning Supplies       46  \n",
       "1670270            barsoap_2         1               Soap       49  \n",
       "1670271          shampoo_men         1            Shampoo       49  \n",
       "\n",
       "[1670272 rows x 12 columns]"
      ]
     },
     "execution_count": 86,
     "metadata": {},
     "output_type": "execute_result"
    }
   ],
   "source": [
    "# Drop irrelevant columns \n",
    "data_merged = data_merged.drop([\"dme_code\",\"image_id\",\"created_at\"], axis=1)\n",
    "data_merged"
   ]
  },
  {
   "cell_type": "code",
   "execution_count": 87,
   "metadata": {
    "colab": {
     "base_uri": "https://localhost:8080/"
    },
    "id": "DbWysQdS8nhb",
    "outputId": "ec6d3b5a-b662-415e-b3e3-c6dbd4bf26d5"
   },
   "outputs": [
    {
     "name": "stdout",
     "output_type": "stream",
     "text": [
      "<class 'pandas.core.frame.DataFrame'>\n",
      "Int64Index: 1670272 entries, 0 to 1670271\n",
      "Data columns (total 12 columns):\n",
      " #   Column         Non-Null Count    Dtype         \n",
      "---  ------         --------------    -----         \n",
      " 0   occupation     1670272 non-null  object        \n",
      " 1   gender         1670272 non-null  object        \n",
      " 2   age_group      1670272 non-null  object        \n",
      " 3   consumer_id    1670272 non-null  int64         \n",
      " 4   receipt_photo  1670272 non-null  object        \n",
      " 5   latitude       1670272 non-null  float64       \n",
      " 6   longitude      1670272 non-null  float64       \n",
      " 7   date           1670272 non-null  datetime64[ns]\n",
      " 8   sub_cat        1670272 non-null  object        \n",
      " 9   quantity       1670272 non-null  int64         \n",
      " 10  cat_label      1670272 non-null  object        \n",
      " 11  recency        1670272 non-null  int64         \n",
      "dtypes: datetime64[ns](1), float64(2), int64(3), object(6)\n",
      "memory usage: 165.7+ MB\n"
     ]
    }
   ],
   "source": [
    "data_merged.info()"
   ]
  },
  {
   "cell_type": "code",
   "execution_count": 88,
   "metadata": {
    "colab": {
     "base_uri": "https://localhost:8080/",
     "height": 206
    },
    "id": "oYD3gMF1_wbu",
    "outputId": "58a9d2f4-9ee9-4f24-c861-7b2722bb97f0",
    "scrolled": true
   },
   "outputs": [
    {
     "data": {
      "text/html": [
       "<div>\n",
       "<style scoped>\n",
       "    .dataframe tbody tr th:only-of-type {\n",
       "        vertical-align: middle;\n",
       "    }\n",
       "\n",
       "    .dataframe tbody tr th {\n",
       "        vertical-align: top;\n",
       "    }\n",
       "\n",
       "    .dataframe thead th {\n",
       "        text-align: right;\n",
       "    }\n",
       "</style>\n",
       "<table border=\"1\" class=\"dataframe\">\n",
       "  <thead>\n",
       "    <tr style=\"text-align: right;\">\n",
       "      <th></th>\n",
       "      <th>occupation</th>\n",
       "      <th>gender</th>\n",
       "      <th>age_group</th>\n",
       "      <th>consumer_id</th>\n",
       "      <th>receipt_photo</th>\n",
       "      <th>latitude</th>\n",
       "      <th>longitude</th>\n",
       "      <th>date</th>\n",
       "      <th>sub_cat</th>\n",
       "      <th>quantity</th>\n",
       "      <th>cat_label</th>\n",
       "      <th>recency</th>\n",
       "    </tr>\n",
       "  </thead>\n",
       "  <tbody>\n",
       "    <tr>\n",
       "      <th>0</th>\n",
       "      <td>Others</td>\n",
       "      <td>Male</td>\n",
       "      <td>18 To 35</td>\n",
       "      <td>1764933199</td>\n",
       "      <td>mbn0176493319961825ef802997.jpg</td>\n",
       "      <td>24.485735</td>\n",
       "      <td>91.773165</td>\n",
       "      <td>2021-11-03</td>\n",
       "      <td>beautycream</td>\n",
       "      <td>2</td>\n",
       "      <td>Skincare</td>\n",
       "      <td>34</td>\n",
       "    </tr>\n",
       "    <tr>\n",
       "      <th>1</th>\n",
       "      <td>Others</td>\n",
       "      <td>Male</td>\n",
       "      <td>18 To 35</td>\n",
       "      <td>1764933199</td>\n",
       "      <td>mbn0176493319961825ef802997.jpg</td>\n",
       "      <td>24.485735</td>\n",
       "      <td>91.773165</td>\n",
       "      <td>2021-11-03</td>\n",
       "      <td>bodywash</td>\n",
       "      <td>2</td>\n",
       "      <td>Soap</td>\n",
       "      <td>34</td>\n",
       "    </tr>\n",
       "    <tr>\n",
       "      <th>2</th>\n",
       "      <td>Others</td>\n",
       "      <td>Male</td>\n",
       "      <td>18 To 35</td>\n",
       "      <td>1764933199</td>\n",
       "      <td>mbn0176493319961825ef802997.jpg</td>\n",
       "      <td>24.485735</td>\n",
       "      <td>91.773165</td>\n",
       "      <td>2021-11-03</td>\n",
       "      <td>dish_liquid</td>\n",
       "      <td>2</td>\n",
       "      <td>Cleaning Supplies</td>\n",
       "      <td>34</td>\n",
       "    </tr>\n",
       "    <tr>\n",
       "      <th>3</th>\n",
       "      <td>Others</td>\n",
       "      <td>Male</td>\n",
       "      <td>18 To 35</td>\n",
       "      <td>1764933199</td>\n",
       "      <td>mbn0176493319961825ef802997.jpg</td>\n",
       "      <td>24.485735</td>\n",
       "      <td>91.773165</td>\n",
       "      <td>2021-11-03</td>\n",
       "      <td>hot_drink_powder</td>\n",
       "      <td>2</td>\n",
       "      <td>Drink</td>\n",
       "      <td>34</td>\n",
       "    </tr>\n",
       "    <tr>\n",
       "      <th>4</th>\n",
       "      <td>Others</td>\n",
       "      <td>Male</td>\n",
       "      <td>18 To 35</td>\n",
       "      <td>1764933199</td>\n",
       "      <td>mbn0176493319961825ef802997.jpg</td>\n",
       "      <td>24.485735</td>\n",
       "      <td>91.773165</td>\n",
       "      <td>2021-11-03</td>\n",
       "      <td>washing_powder_500g</td>\n",
       "      <td>2</td>\n",
       "      <td>Cleaning Supplies</td>\n",
       "      <td>34</td>\n",
       "    </tr>\n",
       "  </tbody>\n",
       "</table>\n",
       "</div>"
      ],
      "text/plain": [
       "  occupation gender age_group  consumer_id                    receipt_photo  \\\n",
       "0     Others   Male  18 To 35   1764933199  mbn0176493319961825ef802997.jpg   \n",
       "1     Others   Male  18 To 35   1764933199  mbn0176493319961825ef802997.jpg   \n",
       "2     Others   Male  18 To 35   1764933199  mbn0176493319961825ef802997.jpg   \n",
       "3     Others   Male  18 To 35   1764933199  mbn0176493319961825ef802997.jpg   \n",
       "4     Others   Male  18 To 35   1764933199  mbn0176493319961825ef802997.jpg   \n",
       "\n",
       "    latitude  longitude       date              sub_cat  quantity  \\\n",
       "0  24.485735  91.773165 2021-11-03          beautycream         2   \n",
       "1  24.485735  91.773165 2021-11-03             bodywash         2   \n",
       "2  24.485735  91.773165 2021-11-03          dish_liquid         2   \n",
       "3  24.485735  91.773165 2021-11-03     hot_drink_powder         2   \n",
       "4  24.485735  91.773165 2021-11-03  washing_powder_500g         2   \n",
       "\n",
       "           cat_label  recency  \n",
       "0           Skincare       34  \n",
       "1               Soap       34  \n",
       "2  Cleaning Supplies       34  \n",
       "3              Drink       34  \n",
       "4  Cleaning Supplies       34  "
      ]
     },
     "execution_count": 88,
     "metadata": {},
     "output_type": "execute_result"
    }
   ],
   "source": [
    "data_merged.head()"
   ]
  },
  {
   "cell_type": "code",
   "execution_count": 89,
   "metadata": {
    "colab": {
     "base_uri": "https://localhost:8080/"
    },
    "id": "VL4N26oIB60z",
    "outputId": "b72e893a-e89c-41d2-cfe8-01a0bc756274"
   },
   "outputs": [
    {
     "data": {
      "text/plain": [
       "(1670272, 12)"
      ]
     },
     "execution_count": 89,
     "metadata": {},
     "output_type": "execute_result"
    }
   ],
   "source": [
    "data_merged.shape"
   ]
  },
  {
   "cell_type": "code",
   "execution_count": 90,
   "metadata": {},
   "outputs": [
    {
     "data": {
      "text/html": [
       "<div>\n",
       "<style scoped>\n",
       "    .dataframe tbody tr th:only-of-type {\n",
       "        vertical-align: middle;\n",
       "    }\n",
       "\n",
       "    .dataframe tbody tr th {\n",
       "        vertical-align: top;\n",
       "    }\n",
       "\n",
       "    .dataframe thead th {\n",
       "        text-align: right;\n",
       "    }\n",
       "</style>\n",
       "<table border=\"1\" class=\"dataframe\">\n",
       "  <thead>\n",
       "    <tr style=\"text-align: right;\">\n",
       "      <th></th>\n",
       "      <th>occupation</th>\n",
       "      <th>gender</th>\n",
       "      <th>age_group</th>\n",
       "      <th>consumer_id</th>\n",
       "      <th>receipt_photo</th>\n",
       "      <th>latitude</th>\n",
       "      <th>longitude</th>\n",
       "      <th>date</th>\n",
       "      <th>sub_cat</th>\n",
       "      <th>quantity</th>\n",
       "      <th>cat_label</th>\n",
       "      <th>recency</th>\n",
       "      <th>cat_Cleaning Supplies</th>\n",
       "      <th>cat_Drink</th>\n",
       "      <th>cat_Facecream</th>\n",
       "      <th>cat_Facewash</th>\n",
       "      <th>cat_Shampoo</th>\n",
       "      <th>cat_Skincare</th>\n",
       "      <th>cat_Soap</th>\n",
       "      <th>cat_Toiletry</th>\n",
       "    </tr>\n",
       "  </thead>\n",
       "  <tbody>\n",
       "    <tr>\n",
       "      <th>0</th>\n",
       "      <td>Others</td>\n",
       "      <td>Male</td>\n",
       "      <td>18 To 35</td>\n",
       "      <td>1764933199</td>\n",
       "      <td>mbn0176493319961825ef802997.jpg</td>\n",
       "      <td>24.485735</td>\n",
       "      <td>91.773165</td>\n",
       "      <td>2021-11-03</td>\n",
       "      <td>beautycream</td>\n",
       "      <td>2</td>\n",
       "      <td>Skincare</td>\n",
       "      <td>34</td>\n",
       "      <td>0</td>\n",
       "      <td>0</td>\n",
       "      <td>0</td>\n",
       "      <td>0</td>\n",
       "      <td>0</td>\n",
       "      <td>1</td>\n",
       "      <td>0</td>\n",
       "      <td>0</td>\n",
       "    </tr>\n",
       "    <tr>\n",
       "      <th>1</th>\n",
       "      <td>Others</td>\n",
       "      <td>Male</td>\n",
       "      <td>18 To 35</td>\n",
       "      <td>1764933199</td>\n",
       "      <td>mbn0176493319961825ef802997.jpg</td>\n",
       "      <td>24.485735</td>\n",
       "      <td>91.773165</td>\n",
       "      <td>2021-11-03</td>\n",
       "      <td>bodywash</td>\n",
       "      <td>2</td>\n",
       "      <td>Soap</td>\n",
       "      <td>34</td>\n",
       "      <td>0</td>\n",
       "      <td>0</td>\n",
       "      <td>0</td>\n",
       "      <td>0</td>\n",
       "      <td>0</td>\n",
       "      <td>0</td>\n",
       "      <td>1</td>\n",
       "      <td>0</td>\n",
       "    </tr>\n",
       "    <tr>\n",
       "      <th>2</th>\n",
       "      <td>Others</td>\n",
       "      <td>Male</td>\n",
       "      <td>18 To 35</td>\n",
       "      <td>1764933199</td>\n",
       "      <td>mbn0176493319961825ef802997.jpg</td>\n",
       "      <td>24.485735</td>\n",
       "      <td>91.773165</td>\n",
       "      <td>2021-11-03</td>\n",
       "      <td>dish_liquid</td>\n",
       "      <td>2</td>\n",
       "      <td>Cleaning Supplies</td>\n",
       "      <td>34</td>\n",
       "      <td>1</td>\n",
       "      <td>0</td>\n",
       "      <td>0</td>\n",
       "      <td>0</td>\n",
       "      <td>0</td>\n",
       "      <td>0</td>\n",
       "      <td>0</td>\n",
       "      <td>0</td>\n",
       "    </tr>\n",
       "    <tr>\n",
       "      <th>3</th>\n",
       "      <td>Others</td>\n",
       "      <td>Male</td>\n",
       "      <td>18 To 35</td>\n",
       "      <td>1764933199</td>\n",
       "      <td>mbn0176493319961825ef802997.jpg</td>\n",
       "      <td>24.485735</td>\n",
       "      <td>91.773165</td>\n",
       "      <td>2021-11-03</td>\n",
       "      <td>hot_drink_powder</td>\n",
       "      <td>2</td>\n",
       "      <td>Drink</td>\n",
       "      <td>34</td>\n",
       "      <td>0</td>\n",
       "      <td>1</td>\n",
       "      <td>0</td>\n",
       "      <td>0</td>\n",
       "      <td>0</td>\n",
       "      <td>0</td>\n",
       "      <td>0</td>\n",
       "      <td>0</td>\n",
       "    </tr>\n",
       "    <tr>\n",
       "      <th>4</th>\n",
       "      <td>Others</td>\n",
       "      <td>Male</td>\n",
       "      <td>18 To 35</td>\n",
       "      <td>1764933199</td>\n",
       "      <td>mbn0176493319961825ef802997.jpg</td>\n",
       "      <td>24.485735</td>\n",
       "      <td>91.773165</td>\n",
       "      <td>2021-11-03</td>\n",
       "      <td>washing_powder_500g</td>\n",
       "      <td>2</td>\n",
       "      <td>Cleaning Supplies</td>\n",
       "      <td>34</td>\n",
       "      <td>1</td>\n",
       "      <td>0</td>\n",
       "      <td>0</td>\n",
       "      <td>0</td>\n",
       "      <td>0</td>\n",
       "      <td>0</td>\n",
       "      <td>0</td>\n",
       "      <td>0</td>\n",
       "    </tr>\n",
       "    <tr>\n",
       "      <th>...</th>\n",
       "      <td>...</td>\n",
       "      <td>...</td>\n",
       "      <td>...</td>\n",
       "      <td>...</td>\n",
       "      <td>...</td>\n",
       "      <td>...</td>\n",
       "      <td>...</td>\n",
       "      <td>...</td>\n",
       "      <td>...</td>\n",
       "      <td>...</td>\n",
       "      <td>...</td>\n",
       "      <td>...</td>\n",
       "      <td>...</td>\n",
       "      <td>...</td>\n",
       "      <td>...</td>\n",
       "      <td>...</td>\n",
       "      <td>...</td>\n",
       "      <td>...</td>\n",
       "      <td>...</td>\n",
       "      <td>...</td>\n",
       "    </tr>\n",
       "    <tr>\n",
       "      <th>1670267</th>\n",
       "      <td>Service Holder</td>\n",
       "      <td>Male</td>\n",
       "      <td>18 To 35</td>\n",
       "      <td>1883916232</td>\n",
       "      <td>mbn01883916232616f86e65300c.jpg</td>\n",
       "      <td>22.394454</td>\n",
       "      <td>90.584895</td>\n",
       "      <td>2021-10-20</td>\n",
       "      <td>barsoap_2</td>\n",
       "      <td>1</td>\n",
       "      <td>Soap</td>\n",
       "      <td>48</td>\n",
       "      <td>0</td>\n",
       "      <td>0</td>\n",
       "      <td>0</td>\n",
       "      <td>0</td>\n",
       "      <td>0</td>\n",
       "      <td>0</td>\n",
       "      <td>1</td>\n",
       "      <td>0</td>\n",
       "    </tr>\n",
       "    <tr>\n",
       "      <th>1670268</th>\n",
       "      <td>Service Holder</td>\n",
       "      <td>Male</td>\n",
       "      <td>18 To 35</td>\n",
       "      <td>1719782715</td>\n",
       "      <td>mbn01719782715617262bc45118.jpg</td>\n",
       "      <td>22.393625</td>\n",
       "      <td>90.588009</td>\n",
       "      <td>2021-10-22</td>\n",
       "      <td>barsoap</td>\n",
       "      <td>1</td>\n",
       "      <td>Soap</td>\n",
       "      <td>46</td>\n",
       "      <td>0</td>\n",
       "      <td>0</td>\n",
       "      <td>0</td>\n",
       "      <td>0</td>\n",
       "      <td>0</td>\n",
       "      <td>0</td>\n",
       "      <td>1</td>\n",
       "      <td>0</td>\n",
       "    </tr>\n",
       "    <tr>\n",
       "      <th>1670269</th>\n",
       "      <td>Service Holder</td>\n",
       "      <td>Male</td>\n",
       "      <td>18 To 35</td>\n",
       "      <td>1719782715</td>\n",
       "      <td>mbn01719782715617262bc45118.jpg</td>\n",
       "      <td>22.393625</td>\n",
       "      <td>90.588009</td>\n",
       "      <td>2021-10-22</td>\n",
       "      <td>washing_powder_500g</td>\n",
       "      <td>1</td>\n",
       "      <td>Cleaning Supplies</td>\n",
       "      <td>46</td>\n",
       "      <td>1</td>\n",
       "      <td>0</td>\n",
       "      <td>0</td>\n",
       "      <td>0</td>\n",
       "      <td>0</td>\n",
       "      <td>0</td>\n",
       "      <td>0</td>\n",
       "      <td>0</td>\n",
       "    </tr>\n",
       "    <tr>\n",
       "      <th>1670270</th>\n",
       "      <td>Service Holder</td>\n",
       "      <td>Male</td>\n",
       "      <td>18 To 35</td>\n",
       "      <td>1726655284</td>\n",
       "      <td>mbn01726655284616e9fad65f13.jpg</td>\n",
       "      <td>22.394058</td>\n",
       "      <td>90.585020</td>\n",
       "      <td>2021-10-19</td>\n",
       "      <td>barsoap_2</td>\n",
       "      <td>1</td>\n",
       "      <td>Soap</td>\n",
       "      <td>49</td>\n",
       "      <td>0</td>\n",
       "      <td>0</td>\n",
       "      <td>0</td>\n",
       "      <td>0</td>\n",
       "      <td>0</td>\n",
       "      <td>0</td>\n",
       "      <td>1</td>\n",
       "      <td>0</td>\n",
       "    </tr>\n",
       "    <tr>\n",
       "      <th>1670271</th>\n",
       "      <td>Service Holder</td>\n",
       "      <td>Male</td>\n",
       "      <td>18 To 35</td>\n",
       "      <td>1726655284</td>\n",
       "      <td>mbn01726655284616e9fad65f13.jpg</td>\n",
       "      <td>22.394058</td>\n",
       "      <td>90.585020</td>\n",
       "      <td>2021-10-19</td>\n",
       "      <td>shampoo_men</td>\n",
       "      <td>1</td>\n",
       "      <td>Shampoo</td>\n",
       "      <td>49</td>\n",
       "      <td>0</td>\n",
       "      <td>0</td>\n",
       "      <td>0</td>\n",
       "      <td>0</td>\n",
       "      <td>1</td>\n",
       "      <td>0</td>\n",
       "      <td>0</td>\n",
       "      <td>0</td>\n",
       "    </tr>\n",
       "  </tbody>\n",
       "</table>\n",
       "<p>1670272 rows × 20 columns</p>\n",
       "</div>"
      ],
      "text/plain": [
       "             occupation gender age_group  consumer_id  \\\n",
       "0                Others   Male  18 To 35   1764933199   \n",
       "1                Others   Male  18 To 35   1764933199   \n",
       "2                Others   Male  18 To 35   1764933199   \n",
       "3                Others   Male  18 To 35   1764933199   \n",
       "4                Others   Male  18 To 35   1764933199   \n",
       "...                 ...    ...       ...          ...   \n",
       "1670267  Service Holder   Male  18 To 35   1883916232   \n",
       "1670268  Service Holder   Male  18 To 35   1719782715   \n",
       "1670269  Service Holder   Male  18 To 35   1719782715   \n",
       "1670270  Service Holder   Male  18 To 35   1726655284   \n",
       "1670271  Service Holder   Male  18 To 35   1726655284   \n",
       "\n",
       "                           receipt_photo   latitude  longitude       date  \\\n",
       "0        mbn0176493319961825ef802997.jpg  24.485735  91.773165 2021-11-03   \n",
       "1        mbn0176493319961825ef802997.jpg  24.485735  91.773165 2021-11-03   \n",
       "2        mbn0176493319961825ef802997.jpg  24.485735  91.773165 2021-11-03   \n",
       "3        mbn0176493319961825ef802997.jpg  24.485735  91.773165 2021-11-03   \n",
       "4        mbn0176493319961825ef802997.jpg  24.485735  91.773165 2021-11-03   \n",
       "...                                  ...        ...        ...        ...   \n",
       "1670267  mbn01883916232616f86e65300c.jpg  22.394454  90.584895 2021-10-20   \n",
       "1670268  mbn01719782715617262bc45118.jpg  22.393625  90.588009 2021-10-22   \n",
       "1670269  mbn01719782715617262bc45118.jpg  22.393625  90.588009 2021-10-22   \n",
       "1670270  mbn01726655284616e9fad65f13.jpg  22.394058  90.585020 2021-10-19   \n",
       "1670271  mbn01726655284616e9fad65f13.jpg  22.394058  90.585020 2021-10-19   \n",
       "\n",
       "                     sub_cat  quantity          cat_label  recency  \\\n",
       "0                beautycream         2           Skincare       34   \n",
       "1                   bodywash         2               Soap       34   \n",
       "2                dish_liquid         2  Cleaning Supplies       34   \n",
       "3           hot_drink_powder         2              Drink       34   \n",
       "4        washing_powder_500g         2  Cleaning Supplies       34   \n",
       "...                      ...       ...                ...      ...   \n",
       "1670267            barsoap_2         1               Soap       48   \n",
       "1670268              barsoap         1               Soap       46   \n",
       "1670269  washing_powder_500g         1  Cleaning Supplies       46   \n",
       "1670270            barsoap_2         1               Soap       49   \n",
       "1670271          shampoo_men         1            Shampoo       49   \n",
       "\n",
       "         cat_Cleaning Supplies  cat_Drink  cat_Facecream  cat_Facewash  \\\n",
       "0                            0          0              0             0   \n",
       "1                            0          0              0             0   \n",
       "2                            1          0              0             0   \n",
       "3                            0          1              0             0   \n",
       "4                            1          0              0             0   \n",
       "...                        ...        ...            ...           ...   \n",
       "1670267                      0          0              0             0   \n",
       "1670268                      0          0              0             0   \n",
       "1670269                      1          0              0             0   \n",
       "1670270                      0          0              0             0   \n",
       "1670271                      0          0              0             0   \n",
       "\n",
       "         cat_Shampoo  cat_Skincare  cat_Soap  cat_Toiletry  \n",
       "0                  0             1         0             0  \n",
       "1                  0             0         1             0  \n",
       "2                  0             0         0             0  \n",
       "3                  0             0         0             0  \n",
       "4                  0             0         0             0  \n",
       "...              ...           ...       ...           ...  \n",
       "1670267            0             0         1             0  \n",
       "1670268            0             0         1             0  \n",
       "1670269            0             0         0             0  \n",
       "1670270            0             0         1             0  \n",
       "1670271            1             0         0             0  \n",
       "\n",
       "[1670272 rows x 20 columns]"
      ]
     },
     "execution_count": 90,
     "metadata": {},
     "output_type": "execute_result"
    }
   ],
   "source": [
    "dummies = pd.get_dummies(data_merged['cat_label'], prefix='cat')\n",
    "data_merged_cat = pd.concat([data_merged, dummies], axis=1)\n",
    "data_merged_cat "
   ]
  },
  {
   "cell_type": "code",
   "execution_count": 91,
   "metadata": {
    "id": "Snrv_SJnhE_s"
   },
   "outputs": [],
   "source": [
    "# Aggregate the merged dataset\n",
    "data_aggregated = data_merged_cat.groupby('consumer_id', as_index=False).agg({\n",
    "    'recency': 'mean',\n",
    "    'receipt_photo': 'count', # quantity of receipt\n",
    "    'quantity': 'sum', # quantity of product buyed\n",
    "    'age_group': 'first',\n",
    "    'gender': 'first',\n",
    "    'occupation': 'first',\n",
    "    'cat_Cleaning Supplies':'sum',\n",
    "    'cat_Drink':'sum',\n",
    "    'cat_Facecream':'sum',\n",
    "    'cat_Facewash':'sum',\n",
    "    'cat_Shampoo':'sum',\n",
    "    'cat_Skincare':'sum',\n",
    "    'cat_Soap':'sum',\n",
    "    'cat_Toiletry':'sum'    \n",
    "})"
   ]
  },
  {
   "cell_type": "code",
   "execution_count": 92,
   "metadata": {
    "colab": {
     "base_uri": "https://localhost:8080/",
     "height": 206
    },
    "id": "I3PiWBKePGCu",
    "outputId": "55dd676b-f19b-4be8-aa68-5e023223ddf8",
    "scrolled": true
   },
   "outputs": [
    {
     "data": {
      "text/html": [
       "<div>\n",
       "<style scoped>\n",
       "    .dataframe tbody tr th:only-of-type {\n",
       "        vertical-align: middle;\n",
       "    }\n",
       "\n",
       "    .dataframe tbody tr th {\n",
       "        vertical-align: top;\n",
       "    }\n",
       "\n",
       "    .dataframe thead th {\n",
       "        text-align: right;\n",
       "    }\n",
       "</style>\n",
       "<table border=\"1\" class=\"dataframe\">\n",
       "  <thead>\n",
       "    <tr style=\"text-align: right;\">\n",
       "      <th></th>\n",
       "      <th>consumer_id</th>\n",
       "      <th>recency</th>\n",
       "      <th>frequency</th>\n",
       "      <th>quantity</th>\n",
       "      <th>age_group</th>\n",
       "      <th>gender</th>\n",
       "      <th>occupation</th>\n",
       "      <th>cat_Cleaning Supplies</th>\n",
       "      <th>cat_Drink</th>\n",
       "      <th>cat_Facecream</th>\n",
       "      <th>cat_Facewash</th>\n",
       "      <th>cat_Shampoo</th>\n",
       "      <th>cat_Skincare</th>\n",
       "      <th>cat_Soap</th>\n",
       "      <th>cat_Toiletry</th>\n",
       "    </tr>\n",
       "  </thead>\n",
       "  <tbody>\n",
       "    <tr>\n",
       "      <th>0</th>\n",
       "      <td>1300016905</td>\n",
       "      <td>85.00</td>\n",
       "      <td>6</td>\n",
       "      <td>6</td>\n",
       "      <td>18 To 35</td>\n",
       "      <td>Male</td>\n",
       "      <td>Service Holder</td>\n",
       "      <td>2</td>\n",
       "      <td>0</td>\n",
       "      <td>0</td>\n",
       "      <td>0</td>\n",
       "      <td>1</td>\n",
       "      <td>1</td>\n",
       "      <td>2</td>\n",
       "      <td>0</td>\n",
       "    </tr>\n",
       "    <tr>\n",
       "      <th>1</th>\n",
       "      <td>1300019918</td>\n",
       "      <td>82.00</td>\n",
       "      <td>2</td>\n",
       "      <td>2</td>\n",
       "      <td>35+</td>\n",
       "      <td>Female</td>\n",
       "      <td>Housewife</td>\n",
       "      <td>0</td>\n",
       "      <td>1</td>\n",
       "      <td>0</td>\n",
       "      <td>0</td>\n",
       "      <td>0</td>\n",
       "      <td>0</td>\n",
       "      <td>0</td>\n",
       "      <td>1</td>\n",
       "    </tr>\n",
       "    <tr>\n",
       "      <th>2</th>\n",
       "      <td>1300028530</td>\n",
       "      <td>44.25</td>\n",
       "      <td>28</td>\n",
       "      <td>31</td>\n",
       "      <td>18 To 35</td>\n",
       "      <td>Male</td>\n",
       "      <td>Student</td>\n",
       "      <td>8</td>\n",
       "      <td>3</td>\n",
       "      <td>0</td>\n",
       "      <td>0</td>\n",
       "      <td>2</td>\n",
       "      <td>6</td>\n",
       "      <td>6</td>\n",
       "      <td>3</td>\n",
       "    </tr>\n",
       "    <tr>\n",
       "      <th>3</th>\n",
       "      <td>1300028697</td>\n",
       "      <td>42.00</td>\n",
       "      <td>4</td>\n",
       "      <td>4</td>\n",
       "      <td>35+</td>\n",
       "      <td>Male</td>\n",
       "      <td>Business</td>\n",
       "      <td>1</td>\n",
       "      <td>0</td>\n",
       "      <td>0</td>\n",
       "      <td>0</td>\n",
       "      <td>0</td>\n",
       "      <td>1</td>\n",
       "      <td>2</td>\n",
       "      <td>0</td>\n",
       "    </tr>\n",
       "    <tr>\n",
       "      <th>4</th>\n",
       "      <td>1300032742</td>\n",
       "      <td>23.00</td>\n",
       "      <td>2</td>\n",
       "      <td>2</td>\n",
       "      <td>18 To 35</td>\n",
       "      <td>Male</td>\n",
       "      <td>Business</td>\n",
       "      <td>1</td>\n",
       "      <td>0</td>\n",
       "      <td>0</td>\n",
       "      <td>0</td>\n",
       "      <td>0</td>\n",
       "      <td>0</td>\n",
       "      <td>1</td>\n",
       "      <td>0</td>\n",
       "    </tr>\n",
       "  </tbody>\n",
       "</table>\n",
       "</div>"
      ],
      "text/plain": [
       "   consumer_id  recency  frequency  quantity age_group  gender  \\\n",
       "0   1300016905    85.00          6         6  18 To 35    Male   \n",
       "1   1300019918    82.00          2         2       35+  Female   \n",
       "2   1300028530    44.25         28        31  18 To 35    Male   \n",
       "3   1300028697    42.00          4         4       35+    Male   \n",
       "4   1300032742    23.00          2         2  18 To 35    Male   \n",
       "\n",
       "       occupation  cat_Cleaning Supplies  cat_Drink  cat_Facecream  \\\n",
       "0  Service Holder                      2          0              0   \n",
       "1       Housewife                      0          1              0   \n",
       "2         Student                      8          3              0   \n",
       "3        Business                      1          0              0   \n",
       "4        Business                      1          0              0   \n",
       "\n",
       "   cat_Facewash  cat_Shampoo  cat_Skincare  cat_Soap  cat_Toiletry  \n",
       "0             0            1             1         2             0  \n",
       "1             0            0             0         0             1  \n",
       "2             0            2             6         6             3  \n",
       "3             0            0             1         2             0  \n",
       "4             0            0             0         1             0  "
      ]
     },
     "execution_count": 92,
     "metadata": {},
     "output_type": "execute_result"
    }
   ],
   "source": [
    "data_aggregated = data_aggregated.rename(columns={'receipt_photo': 'frequency'})\n",
    "data_aggregated.head()"
   ]
  },
  {
   "cell_type": "code",
   "execution_count": 93,
   "metadata": {},
   "outputs": [],
   "source": [
    "# save data aggregated table to a csv file\n",
    "data_aggregated.to_csv(\"data_aggregated_for_the_group.csv\")"
   ]
  },
  {
   "cell_type": "code",
   "execution_count": 94,
   "metadata": {
    "scrolled": true
   },
   "outputs": [
    {
     "data": {
      "text/html": [
       "<div>\n",
       "<style scoped>\n",
       "    .dataframe tbody tr th:only-of-type {\n",
       "        vertical-align: middle;\n",
       "    }\n",
       "\n",
       "    .dataframe tbody tr th {\n",
       "        vertical-align: top;\n",
       "    }\n",
       "\n",
       "    .dataframe thead th {\n",
       "        text-align: right;\n",
       "    }\n",
       "</style>\n",
       "<table border=\"1\" class=\"dataframe\">\n",
       "  <thead>\n",
       "    <tr style=\"text-align: right;\">\n",
       "      <th></th>\n",
       "      <th>consumer_id</th>\n",
       "      <th>occupation</th>\n",
       "      <th>gender</th>\n",
       "      <th>age_group</th>\n",
       "      <th>date</th>\n",
       "      <th>sub_cat</th>\n",
       "      <th>quantity</th>\n",
       "      <th>cat_label</th>\n",
       "      <th>recency</th>\n",
       "    </tr>\n",
       "  </thead>\n",
       "  <tbody>\n",
       "    <tr>\n",
       "      <th>0</th>\n",
       "      <td>1764933199</td>\n",
       "      <td>Others</td>\n",
       "      <td>Male</td>\n",
       "      <td>18 To 35</td>\n",
       "      <td>2021-11-03</td>\n",
       "      <td>beautycream</td>\n",
       "      <td>2</td>\n",
       "      <td>Skincare</td>\n",
       "      <td>34</td>\n",
       "    </tr>\n",
       "    <tr>\n",
       "      <th>1</th>\n",
       "      <td>1764933199</td>\n",
       "      <td>Others</td>\n",
       "      <td>Male</td>\n",
       "      <td>18 To 35</td>\n",
       "      <td>2021-11-03</td>\n",
       "      <td>bodywash</td>\n",
       "      <td>2</td>\n",
       "      <td>Soap</td>\n",
       "      <td>34</td>\n",
       "    </tr>\n",
       "    <tr>\n",
       "      <th>2</th>\n",
       "      <td>1764933199</td>\n",
       "      <td>Others</td>\n",
       "      <td>Male</td>\n",
       "      <td>18 To 35</td>\n",
       "      <td>2021-11-03</td>\n",
       "      <td>dish_liquid</td>\n",
       "      <td>2</td>\n",
       "      <td>Cleaning Supplies</td>\n",
       "      <td>34</td>\n",
       "    </tr>\n",
       "    <tr>\n",
       "      <th>3</th>\n",
       "      <td>1764933199</td>\n",
       "      <td>Others</td>\n",
       "      <td>Male</td>\n",
       "      <td>18 To 35</td>\n",
       "      <td>2021-11-03</td>\n",
       "      <td>hot_drink_powder</td>\n",
       "      <td>2</td>\n",
       "      <td>Drink</td>\n",
       "      <td>34</td>\n",
       "    </tr>\n",
       "    <tr>\n",
       "      <th>4</th>\n",
       "      <td>1764933199</td>\n",
       "      <td>Others</td>\n",
       "      <td>Male</td>\n",
       "      <td>18 To 35</td>\n",
       "      <td>2021-11-03</td>\n",
       "      <td>washing_powder_500g</td>\n",
       "      <td>2</td>\n",
       "      <td>Cleaning Supplies</td>\n",
       "      <td>34</td>\n",
       "    </tr>\n",
       "    <tr>\n",
       "      <th>...</th>\n",
       "      <td>...</td>\n",
       "      <td>...</td>\n",
       "      <td>...</td>\n",
       "      <td>...</td>\n",
       "      <td>...</td>\n",
       "      <td>...</td>\n",
       "      <td>...</td>\n",
       "      <td>...</td>\n",
       "      <td>...</td>\n",
       "    </tr>\n",
       "    <tr>\n",
       "      <th>1670267</th>\n",
       "      <td>1883916232</td>\n",
       "      <td>Service Holder</td>\n",
       "      <td>Male</td>\n",
       "      <td>18 To 35</td>\n",
       "      <td>2021-10-20</td>\n",
       "      <td>barsoap_2</td>\n",
       "      <td>1</td>\n",
       "      <td>Soap</td>\n",
       "      <td>48</td>\n",
       "    </tr>\n",
       "    <tr>\n",
       "      <th>1670268</th>\n",
       "      <td>1719782715</td>\n",
       "      <td>Service Holder</td>\n",
       "      <td>Male</td>\n",
       "      <td>18 To 35</td>\n",
       "      <td>2021-10-22</td>\n",
       "      <td>barsoap</td>\n",
       "      <td>1</td>\n",
       "      <td>Soap</td>\n",
       "      <td>46</td>\n",
       "    </tr>\n",
       "    <tr>\n",
       "      <th>1670269</th>\n",
       "      <td>1719782715</td>\n",
       "      <td>Service Holder</td>\n",
       "      <td>Male</td>\n",
       "      <td>18 To 35</td>\n",
       "      <td>2021-10-22</td>\n",
       "      <td>washing_powder_500g</td>\n",
       "      <td>1</td>\n",
       "      <td>Cleaning Supplies</td>\n",
       "      <td>46</td>\n",
       "    </tr>\n",
       "    <tr>\n",
       "      <th>1670270</th>\n",
       "      <td>1726655284</td>\n",
       "      <td>Service Holder</td>\n",
       "      <td>Male</td>\n",
       "      <td>18 To 35</td>\n",
       "      <td>2021-10-19</td>\n",
       "      <td>barsoap_2</td>\n",
       "      <td>1</td>\n",
       "      <td>Soap</td>\n",
       "      <td>49</td>\n",
       "    </tr>\n",
       "    <tr>\n",
       "      <th>1670271</th>\n",
       "      <td>1726655284</td>\n",
       "      <td>Service Holder</td>\n",
       "      <td>Male</td>\n",
       "      <td>18 To 35</td>\n",
       "      <td>2021-10-19</td>\n",
       "      <td>shampoo_men</td>\n",
       "      <td>1</td>\n",
       "      <td>Shampoo</td>\n",
       "      <td>49</td>\n",
       "    </tr>\n",
       "  </tbody>\n",
       "</table>\n",
       "<p>1670272 rows × 9 columns</p>\n",
       "</div>"
      ],
      "text/plain": [
       "         consumer_id      occupation gender age_group       date  \\\n",
       "0         1764933199          Others   Male  18 To 35 2021-11-03   \n",
       "1         1764933199          Others   Male  18 To 35 2021-11-03   \n",
       "2         1764933199          Others   Male  18 To 35 2021-11-03   \n",
       "3         1764933199          Others   Male  18 To 35 2021-11-03   \n",
       "4         1764933199          Others   Male  18 To 35 2021-11-03   \n",
       "...              ...             ...    ...       ...        ...   \n",
       "1670267   1883916232  Service Holder   Male  18 To 35 2021-10-20   \n",
       "1670268   1719782715  Service Holder   Male  18 To 35 2021-10-22   \n",
       "1670269   1719782715  Service Holder   Male  18 To 35 2021-10-22   \n",
       "1670270   1726655284  Service Holder   Male  18 To 35 2021-10-19   \n",
       "1670271   1726655284  Service Holder   Male  18 To 35 2021-10-19   \n",
       "\n",
       "                     sub_cat  quantity          cat_label  recency  \n",
       "0                beautycream         2           Skincare       34  \n",
       "1                   bodywash         2               Soap       34  \n",
       "2                dish_liquid         2  Cleaning Supplies       34  \n",
       "3           hot_drink_powder         2              Drink       34  \n",
       "4        washing_powder_500g         2  Cleaning Supplies       34  \n",
       "...                      ...       ...                ...      ...  \n",
       "1670267            barsoap_2         1               Soap       48  \n",
       "1670268              barsoap         1               Soap       46  \n",
       "1670269  washing_powder_500g         1  Cleaning Supplies       46  \n",
       "1670270            barsoap_2         1               Soap       49  \n",
       "1670271          shampoo_men         1            Shampoo       49  \n",
       "\n",
       "[1670272 rows x 9 columns]"
      ]
     },
     "execution_count": 94,
     "metadata": {},
     "output_type": "execute_result"
    }
   ],
   "source": [
    "# Dataframe to merge with the labels\n",
    "data_labels = data_merged_cat [[\"consumer_id\",\"occupation\",\"gender\",\"age_group\",\"date\",\"sub_cat\",\"quantity\",\"cat_label\",\"recency\"]]\n",
    "data_labels"
   ]
  },
  {
   "cell_type": "code",
   "execution_count": 108,
   "metadata": {},
   "outputs": [],
   "source": [
    "data_labels.to_csv('data_to_merge_labels.csv')"
   ]
  },
  {
   "cell_type": "code",
   "execution_count": 109,
   "metadata": {
    "colab": {
     "base_uri": "https://localhost:8080/",
     "height": 175
    },
    "id": "ehgNHM1v-vsq",
    "outputId": "fd9835cb-ef34-4433-b23e-1c29a0ba58cc"
   },
   "outputs": [
    {
     "data": {
      "text/html": [
       "<div>\n",
       "<style scoped>\n",
       "    .dataframe tbody tr th:only-of-type {\n",
       "        vertical-align: middle;\n",
       "    }\n",
       "\n",
       "    .dataframe tbody tr th {\n",
       "        vertical-align: top;\n",
       "    }\n",
       "\n",
       "    .dataframe thead th {\n",
       "        text-align: right;\n",
       "    }\n",
       "</style>\n",
       "<table border=\"1\" class=\"dataframe\">\n",
       "  <thead>\n",
       "    <tr style=\"text-align: right;\">\n",
       "      <th></th>\n",
       "      <th>consumer_id</th>\n",
       "      <th>age_group</th>\n",
       "      <th>gender</th>\n",
       "      <th>occupation</th>\n",
       "    </tr>\n",
       "  </thead>\n",
       "  <tbody>\n",
       "    <tr>\n",
       "      <th>count</th>\n",
       "      <td>374479</td>\n",
       "      <td>374479</td>\n",
       "      <td>374479</td>\n",
       "      <td>374479</td>\n",
       "    </tr>\n",
       "    <tr>\n",
       "      <th>unique</th>\n",
       "      <td>374479</td>\n",
       "      <td>3</td>\n",
       "      <td>3</td>\n",
       "      <td>5</td>\n",
       "    </tr>\n",
       "    <tr>\n",
       "      <th>top</th>\n",
       "      <td>1300016905</td>\n",
       "      <td>18 To 35</td>\n",
       "      <td>Male</td>\n",
       "      <td>Service Holder</td>\n",
       "    </tr>\n",
       "    <tr>\n",
       "      <th>freq</th>\n",
       "      <td>1</td>\n",
       "      <td>298653</td>\n",
       "      <td>322581</td>\n",
       "      <td>147523</td>\n",
       "    </tr>\n",
       "  </tbody>\n",
       "</table>\n",
       "</div>"
      ],
      "text/plain": [
       "       consumer_id age_group  gender      occupation\n",
       "count       374479    374479  374479          374479\n",
       "unique      374479         3       3               5\n",
       "top     1300016905  18 To 35    Male  Service Holder\n",
       "freq             1    298653  322581          147523"
      ]
     },
     "execution_count": 109,
     "metadata": {},
     "output_type": "execute_result"
    }
   ],
   "source": [
    "# Summary statistics about categorical columns\n",
    "data_aggregated[\"consumer_id\"] = data_aggregated[\"consumer_id\"].astype('str')\n",
    "data_aggregated.describe(include='object')"
   ]
  },
  {
   "cell_type": "code",
   "execution_count": 110,
   "metadata": {},
   "outputs": [
    {
     "name": "stdout",
     "output_type": "stream",
     "text": [
      "data shape : (374479, 15)\n",
      "number of unique consumer after merging the two datasets : 374479\n",
      "number of unique consumer_id before merging : 451021\n"
     ]
    }
   ],
   "source": [
    "print(\"data shape :\", data_aggregated.shape)\n",
    "print(\"number of unique consumer after merging the two datasets :\", data_merged.consumer_id.nunique())\n",
    "print(\"number of unique consumer_id before merging :\",consumer_data.consumer_id.nunique() )"
   ]
  },
  {
   "cell_type": "code",
   "execution_count": 111,
   "metadata": {
    "colab": {
     "base_uri": "https://localhost:8080/",
     "height": 596
    },
    "id": "9g-10L26Ujh4",
    "outputId": "490b33ef-fabb-47d0-f78a-001655e839c6"
   },
   "outputs": [
    {
     "data": {
      "image/png": "[encoded data removed]",
      "text/plain": [
       "<Figure size 720x720 with 2 Axes>"
      ]
     },
     "metadata": {
      "needs_background": "light"
     },
     "output_type": "display_data"
    }
   ],
   "source": [
    "# Look at the correlation between variables\n",
    "fig = plt.figure(figsize=(10,10))\n",
    "corr_matrix = data_aggregated.corr()\n",
    "sns.heatmap(corr_matrix, cmap= \"Blues\", annot = True)\n",
    "plt.show()"
   ]
  },
  {
   "cell_type": "markdown",
   "metadata": {
    "id": "_de06LbOYxn-"
   },
   "source": [
    "- Frequency and quantity are highly correlated. We are goind to drop the quantity"
   ]
  },
  {
   "cell_type": "code",
   "execution_count": 112,
   "metadata": {
    "colab": {
     "base_uri": "https://localhost:8080/",
     "height": 608
    },
    "id": "7Wv9mT9jaI7l",
    "outputId": "2cbd0721-fbb3-41e1-b93f-4031b58effb9"
   },
   "outputs": [
    {
     "data": {
      "image/png": "[encoded data removed]",
      "text/plain": [
       "<Figure size 720x720 with 12 Axes>"
      ]
     },
     "metadata": {
      "needs_background": "light"
     },
     "output_type": "display_data"
    }
   ],
   "source": [
    "data_aggregated.hist(figsize=(10,10));"
   ]
  },
  {
   "cell_type": "markdown",
   "metadata": {
    "id": "2IzN82_j5s7n"
   },
   "source": [
    "All the customers are almost located at the same place. The Distribution of the latitude and the longitude are quite "
   ]
  },
  {
   "cell_type": "code",
   "execution_count": 113,
   "metadata": {
    "colab": {
     "base_uri": "https://localhost:8080/",
     "height": 288
    },
    "id": "Ak6yrfjx5kHU",
    "outputId": "93e39e3f-5848-4381-82a3-599319a608e7"
   },
   "outputs": [
    {
     "data": {
      "image/png": "[encoded data removed]",
      "text/plain": [
       "<Figure size 1440x720 with 11 Axes>"
      ]
     },
     "metadata": {
      "needs_background": "light"
     },
     "output_type": "display_data"
    }
   ],
   "source": [
    "#visualize distribution to detect outliers per column\n",
    "data_aggregated_continous = data_aggregated.select_dtypes([int,float,\"uint8\"]) # store all continous variable (integer or float) columns in data_aggregated_continous variable\n",
    "fig = plt.figure(figsize=(20, 10)) # size of plot\n",
    "\n",
    "for i, columns in enumerate(data_aggregated_continous.columns, 1): \n",
    "    ax = plt.subplot(5,3,i) # creates 3 subplots in one single row\n",
    "    sns.boxplot(data = data_aggregated_continous, x=data_aggregated_continous[columns]) # creates box plots for each feature in data_aggregated_continous dataset\n",
    "    ax.set_xlabel(None) # removes the labels on x-axis\n",
    "    ax.set_title(f'Distribution of {columns}') # adds title to each subplot\n",
    "    \n",
    "plt.tight_layout(w_pad=3) # adds padding between the subplots\n",
    "plt.show() # displays the plots"
   ]
  },
  {
   "cell_type": "markdown",
   "metadata": {
    "id": "AWXkLU1T9Dh9"
   },
   "source": [
    "We can remove customer being far from the mean latitude and lognitude in the tuning part"
   ]
  },
  {
   "cell_type": "code",
   "execution_count": 114,
   "metadata": {
    "colab": {
     "base_uri": "https://localhost:8080/"
    },
    "id": "49g0cmc-Y_7s",
    "outputId": "171fd224-46aa-45fe-e7c3-ef022f6653d3"
   },
   "outputs": [
    {
     "name": "stdout",
     "output_type": "stream",
     "text": [
      "<class 'pandas.core.frame.DataFrame'>\n",
      "RangeIndex: 374479 entries, 0 to 374478\n",
      "Data columns (total 15 columns):\n",
      " #   Column                 Non-Null Count   Dtype  \n",
      "---  ------                 --------------   -----  \n",
      " 0   consumer_id            374479 non-null  object \n",
      " 1   recency                374479 non-null  float64\n",
      " 2   frequency              374479 non-null  int64  \n",
      " 3   quantity               374479 non-null  int64  \n",
      " 4   age_group              374479 non-null  object \n",
      " 5   gender                 374479 non-null  object \n",
      " 6   occupation             374479 non-null  object \n",
      " 7   cat_Cleaning Supplies  374479 non-null  uint8  \n",
      " 8   cat_Drink              374479 non-null  uint8  \n",
      " 9   cat_Facecream          374479 non-null  uint8  \n",
      " 10  cat_Facewash           374479 non-null  uint8  \n",
      " 11  cat_Shampoo            374479 non-null  uint8  \n",
      " 12  cat_Skincare           374479 non-null  uint8  \n",
      " 13  cat_Soap               374479 non-null  uint8  \n",
      " 14  cat_Toiletry           374479 non-null  uint8  \n",
      "dtypes: float64(1), int64(2), object(4), uint8(8)\n",
      "memory usage: 22.9+ MB\n"
     ]
    }
   ],
   "source": [
    "data_aggregated.info()"
   ]
  },
  {
   "cell_type": "code",
   "execution_count": 115,
   "metadata": {},
   "outputs": [
    {
     "data": {
      "text/html": [
       "<div>\n",
       "<style scoped>\n",
       "    .dataframe tbody tr th:only-of-type {\n",
       "        vertical-align: middle;\n",
       "    }\n",
       "\n",
       "    .dataframe tbody tr th {\n",
       "        vertical-align: top;\n",
       "    }\n",
       "\n",
       "    .dataframe thead th {\n",
       "        text-align: right;\n",
       "    }\n",
       "</style>\n",
       "<table border=\"1\" class=\"dataframe\">\n",
       "  <thead>\n",
       "    <tr style=\"text-align: right;\">\n",
       "      <th></th>\n",
       "      <th>recency</th>\n",
       "      <th>frequency</th>\n",
       "    </tr>\n",
       "  </thead>\n",
       "  <tbody>\n",
       "    <tr>\n",
       "      <th>0</th>\n",
       "      <td>85.00</td>\n",
       "      <td>6</td>\n",
       "    </tr>\n",
       "    <tr>\n",
       "      <th>1</th>\n",
       "      <td>82.00</td>\n",
       "      <td>2</td>\n",
       "    </tr>\n",
       "    <tr>\n",
       "      <th>2</th>\n",
       "      <td>44.25</td>\n",
       "      <td>28</td>\n",
       "    </tr>\n",
       "    <tr>\n",
       "      <th>3</th>\n",
       "      <td>42.00</td>\n",
       "      <td>4</td>\n",
       "    </tr>\n",
       "    <tr>\n",
       "      <th>4</th>\n",
       "      <td>23.00</td>\n",
       "      <td>2</td>\n",
       "    </tr>\n",
       "  </tbody>\n",
       "</table>\n",
       "</div>"
      ],
      "text/plain": [
       "   recency  frequency\n",
       "0    85.00          6\n",
       "1    82.00          2\n",
       "2    44.25         28\n",
       "3    42.00          4\n",
       "4    23.00          2"
      ]
     },
     "execution_count": 115,
     "metadata": {},
     "output_type": "execute_result"
    }
   ],
   "source": [
    "data_aggregated_cleaned = data_aggregated[[\"recency\", \"frequency\"]] # We are going to train our algorithm model on recency and frequency features\n",
    "data_aggregated_cleaned.head()"
   ]
  },
  {
   "cell_type": "code",
   "execution_count": 116,
   "metadata": {
    "id": "EHMVk3UNo8Dd"
   },
   "outputs": [],
   "source": [
    "data_clean = data_aggregated_cleaned.copy()\n",
    "data_clean.to_csv(\"data_features_for_ML.cvs\")"
   ]
  },
  {
   "cell_type": "markdown",
   "metadata": {
    "id": "GgUGiAIee33f"
   },
   "source": [
    "## Scaling the data"
   ]
  },
  {
   "cell_type": "code",
   "execution_count": 117,
   "metadata": {
    "colab": {
     "base_uri": "https://localhost:8080/"
    },
    "id": "CSlxX0La4Gkg",
    "outputId": "86e2aacd-f1a2-401a-94cd-dd5896859ab7"
   },
   "outputs": [
    {
     "name": "stdout",
     "output_type": "stream",
     "text": [
      "[ 0. -0.]\n",
      "[1. 1.]\n",
      "New std deviation: 1.0\n",
      "New mean: 0\n"
     ]
    }
   ],
   "source": [
    "# Scaling data\n",
    "from sklearn.preprocessing import StandardScaler\n",
    "scaler = StandardScaler()\n",
    "scaler.fit(data_aggregated_cleaned)\n",
    "data_encoded_scaled = scaler.transform(data_aggregated_cleaned)\n",
    "print(data_encoded_scaled.mean(axis = 0).round(2))\n",
    "print(data_encoded_scaled.std(axis = 0).round(2))\n",
    "print('New std deviation:', data_encoded_scaled.std())\n",
    "print('New mean:', round(data_encoded_scaled.mean()))"
   ]
  },
  {
   "cell_type": "code",
   "execution_count": 118,
   "metadata": {
    "colab": {
     "base_uri": "https://localhost:8080/"
    },
    "id": "V_DOBGLZFDPm",
    "outputId": "4aa7b651-83e8-403f-8dfb-1defb1f65d87"
   },
   "outputs": [
    {
     "data": {
      "text/plain": [
       "array([[ 1.51848305,  0.3280431 ],\n",
       "       [ 1.39880868, -0.52415825],\n",
       "       [-0.1070938 ,  5.01515053],\n",
       "       ...,\n",
       "       [ 0.86027402, -0.09805758],\n",
       "       [ 1.39880868, -0.09805758],\n",
       "       [-0.97188358,  0.54109343]])"
      ]
     },
     "execution_count": 118,
     "metadata": {},
     "output_type": "execute_result"
    }
   ],
   "source": [
    "data_encoded_scaled"
   ]
  },
  {
   "cell_type": "code",
   "execution_count": 119,
   "metadata": {
    "colab": {
     "base_uri": "https://localhost:8080/"
    },
    "id": "EpSsRoMa5Vwp",
    "outputId": "46c71be8-e327-4757-ac37-f64d17e76fc1"
   },
   "outputs": [
    {
     "data": {
      "text/plain": [
       "(374479, 2)"
      ]
     },
     "execution_count": 119,
     "metadata": {},
     "output_type": "execute_result"
    }
   ],
   "source": [
    "data_encoded_scaled.shape"
   ]
  },
  {
   "cell_type": "code",
   "execution_count": 122,
   "metadata": {},
   "outputs": [],
   "source": [
    "pd.DataFrame(data_encoded_scaled).to_csv('data_encoded_scaled.csv')"
   ]
  },
  {
   "cell_type": "code",
   "execution_count": null,
   "metadata": {},
   "outputs": [],
   "source": []
  }
 ],
 "metadata": {
  "colab": {
   "collapsed_sections": [],
   "name": "KMEANS.ipynb",
   "provenance": []
  },
  "kernelspec": {
   "display_name": "Python 3 (ipykernel)",
   "language": "python",
   "name": "python3"
  },
  "language_info": {
   "codemirror_mode": {
    "name": "ipython",
    "version": 3
   },
   "file_extension": ".py",
   "mimetype": "text/x-python",
   "name": "python",
   "nbconvert_exporter": "python",
   "pygments_lexer": "ipython3",
   "version": "3.8.8"
  }
 },
 "nbformat": 4,
 "nbformat_minor": 4
}
